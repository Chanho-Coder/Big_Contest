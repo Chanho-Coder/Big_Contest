{
 "cells": [
  {
   "cell_type": "markdown",
   "metadata": {
    "colab_type": "text",
    "id": "9O6-bcZjNdbs"
   },
   "source": [
    "* 전처리에 필요한 모듈 (띄어쓰기)"
   ]
  },
  {
   "cell_type": "markdown",
   "metadata": {
    "colab_type": "text",
    "id": "C2-ZJBqb3ecZ"
   },
   "source": [
    "해당 명령어는 실행 시킨뒤에 다시 런타임 재시도 해야함 ! \n"
   ]
  },
  {
   "cell_type": "code",
   "execution_count": null,
   "metadata": {
    "colab": {},
    "colab_type": "code",
    "id": "fUlKZ8RDBmEO"
   },
   "outputs": [],
   "source": [
    "% cd \"/content/drive/My Drive/py-hanspell/\""
   ]
  },
  {
   "cell_type": "code",
   "execution_count": null,
   "metadata": {
    "colab": {},
    "colab_type": "code",
    "id": "lP41qbpkNQqd"
   },
   "outputs": [],
   "source": [
    "! python setup.py install"
   ]
  },
  {
   "cell_type": "code",
   "execution_count": null,
   "metadata": {
    "colab": {},
    "colab_type": "code",
    "id": "JhydyYeONHQe"
   },
   "outputs": [],
   "source": [
    "! pip install py-hanspell"
   ]
  },
  {
   "cell_type": "code",
   "execution_count": null,
   "metadata": {
    "colab": {},
    "colab_type": "code",
    "id": "bMfZno3BmZ4W"
   },
   "outputs": [],
   "source": [
    "! pip install tqdm --upgrade"
   ]
  },
  {
   "cell_type": "code",
   "execution_count": null,
   "metadata": {
    "colab": {},
    "colab_type": "code",
    "id": "qT5NHg3Xkwm6"
   },
   "outputs": [],
   "source": [
    "from tqdm.notebook import tqdm\n",
    "tqdm.pandas()"
   ]
  },
  {
   "cell_type": "code",
   "execution_count": null,
   "metadata": {
    "colab": {},
    "colab_type": "code",
    "id": "LM_rSveG4Ipv"
   },
   "outputs": [],
   "source": [
    "import pandas as pd \n",
    "import numpy as np\n",
    "import glob\n",
    "from tqdm import tqdm\n",
    "\n",
    "# 전처리 모듈\n",
    "import re\n",
    "from hanspell import spell_checker\n",
    "\n",
    "# 크롤링 모듈 \n",
    "from bs4 import BeautifulSoup\n",
    "import requests"
   ]
  },
  {
   "cell_type": "markdown",
   "metadata": {
    "colab_type": "text",
    "id": "C0EHBgihtpEd"
   },
   "source": [
    "##1. Data Load"
   ]
  },
  {
   "cell_type": "code",
   "execution_count": null,
   "metadata": {
    "colab": {},
    "colab_type": "code",
    "id": "GT46H6vcuXs5"
   },
   "outputs": [],
   "source": [
    "def data_load():\n",
    "    file_path = \"/content/drive/My Drive/Colab Notebooks/2020bigcontest/data/\"\n",
    "    train_data = pd.read_csv(file_path+\"train_data_pre1_0820.csv\")\n",
    "    test_data = pd.read_csv(file_path+\"test_data_pre1_0820.csv\")\n",
    "    return train_data, test_data"
   ]
  },
  {
   "cell_type": "code",
   "execution_count": null,
   "metadata": {
    "colab": {},
    "colab_type": "code",
    "id": "Hh3juLno3bo3"
   },
   "outputs": [],
   "source": [
    "train_data , test_data = data_load()\n",
    "train_p_setlist = list(set(train_data['p_code']))\n",
    "print(len(train_p_setlist)) # len 2124\n",
    "chk_test = list(set(test_data.loc[(test_data['p_code'].isin(train_p_setlist))]['p_code']))\n",
    "print(len(chk_test)) # len 27"
   ]
  },
  {
   "cell_type": "markdown",
   "metadata": {
    "colab_type": "text",
    "id": "QPBbulVt-Eim"
   },
   "source": [
    "## 1.5 data check"
   ]
  },
  {
   "cell_type": "markdown",
   "metadata": {
    "colab_type": "text",
    "id": "6kCxIgZtWUQD"
   },
   "source": [
    "### 네이버 상품 품목과 상품 명 합쳐서 검색하기 (검색 결과 더 좋음) \n",
    "* 상품 품목 + 이름 합쳐서 검색 시도 \n",
    "* 이때 상품 품목 NS 상품코드 --> 네이버 상품코드로 바꿔주기 \n",
    "* p_code —> 네이버 대분류 코드로 맵핑 --> \" 네이버 상품 코드 + 상품명 \" 으로 검색 시도 \n",
    "* ex. 엘린느 바지 -> 패션의류 엘린느 바지 \n"
   ]
  },
  {
   "cell_type": "code",
   "execution_count": null,
   "metadata": {
    "colab": {
     "base_uri": "https://localhost:8080/",
     "height": 36
    },
    "colab_type": "code",
    "executionInfo": {
     "elapsed": 446,
     "status": "ok",
     "timestamp": 1599216174638,
     "user": {
      "displayName": "___ he",
      "photoUrl": "https://lh3.googleusercontent.com/a-/AOh14GhtF_eOIBFxax69_lot3-pnRiKRYV51eIt3LkmrMQ=s64",
      "userId": "09313321800010264659"
     },
     "user_tz": -540
    },
    "id": "Kn-bqIRZUFXn",
    "outputId": "db35fd9c-45d7-4599-c3d6-a8e6e1d8a999"
   },
   "outputs": [
    {
     "name": "stdout",
     "output_type": "stream",
     "text": [
      "['가구', '가전', '건강기능', '농수축', '무형', '생활용품', '속옷', '의류', '이미용', '잡화', '주방', '침구']\n"
     ]
    }
   ],
   "source": [
    "naver_cate_list = ['가구', '가전', '건강식품', '식품', '무형', '생활', '속옷', '패션의류', '미용', '패션잡화' , '주방용품', '침구']\n",
    "p_cate_list = sorted(list(set(train_data['p_cate'])))\n",
    "print(p_cate_list)\n",
    "pcate_2navercate_dict = dict(zip(p_cate_list, naver_cate_list))"
   ]
  },
  {
   "cell_type": "code",
   "execution_count": null,
   "metadata": {
    "colab": {},
    "colab_type": "code",
    "id": "K-4zvlaPWb0O"
   },
   "outputs": [],
   "source": [
    "def pcate_2navercate(p_cate):\n",
    "    return pcate_2navercate_dict[p_cate]"
   ]
  },
  {
   "cell_type": "code",
   "execution_count": null,
   "metadata": {
    "colab": {},
    "colab_type": "code",
    "id": "_JDhfXZwWZCI"
   },
   "outputs": [],
   "source": [
    "train_data['naver_cate'] = train_data['p_cate'].apply(pcate_2navercate)\n",
    "train_data['naver_cate_name'] = train_data['naver_cate'] +\" \"+train_data['p_name']\n",
    "display(train_data.head(10))\n",
    "\n",
    "test_data['naver_cate'] = test_data['p_cate'].apply(pcate_2navercate)\n",
    "test_data['naver_cate_name'] = test_data['naver_cate'] +\" \"+test_data['p_name']\n",
    "display(test_data.head(10))"
   ]
  },
  {
   "cell_type": "code",
   "execution_count": null,
   "metadata": {
    "colab": {},
    "colab_type": "code",
    "id": "xrF3xpouA3zI"
   },
   "outputs": [],
   "source": [
    "# ## test data 와 traindata 겹치는 상품코드만 거르기  --> 체크 완료 !! \n",
    "\n",
    "# result_list = []\n",
    "# for chk_p_code in list(chk_test):\n",
    "#     print(chk_p_code)\n",
    "#     result1, result2 = False, False\n",
    "#     train_checker = set(train_data[train_data['p_code'] == chk_p_code]['p_name'])\n",
    "#     test_checker = set(test_data[test_data['p_code'] == chk_p_code]['p_name'])\n",
    "\n",
    "#     if len(train_checker) == 1 and len(train_checker) == 1:\n",
    "#         result1 = True \n",
    "#     if train_checker == test_checker:\n",
    "#         # print(train_checker, test_checker)\n",
    "#         result2 = True\n",
    "\n",
    "#     result_list.append(result1)\n",
    "#     result_list.append(result2)\n",
    "\n",
    "# if False in result_list:\n",
    "#     print(\"ERROR\")\n",
    "# else: \n",
    "#     print(\"P_code and P_name are same in each dataframe\")"
   ]
  },
  {
   "cell_type": "code",
   "execution_count": null,
   "metadata": {
    "colab": {
     "base_uri": "https://localhost:8080/",
     "height": 73
    },
    "colab_type": "code",
    "executionInfo": {
     "elapsed": 1162,
     "status": "ok",
     "timestamp": 1599234543887,
     "user": {
      "displayName": "___ he",
      "photoUrl": "https://lh3.googleusercontent.com/a-/AOh14GhtF_eOIBFxax69_lot3-pnRiKRYV51eIt3LkmrMQ=s64",
      "userId": "09313321800010264659"
     },
     "user_tz": -540
    },
    "id": "bz4Z6UdmDtaU",
    "outputId": "c73613e0-01a0-492d-b513-7accae89f260"
   },
   "outputs": [
    {
     "name": "stdout",
     "output_type": "stream",
     "text": [
      "(937, 17)\n",
      "(175, 16)\n",
      "(1112, 17)\n"
     ]
    }
   ],
   "source": [
    "### 무형 DF - concat train/ test\n",
    "em_train_df = train_data[train_data['p_cate'] == '무형']\n",
    "print(em_train_df.shape)\n",
    "em_test_df = test_data[test_data['p_cate'] == '무형']\n",
    "print(em_test_df.shape)\n",
    "em_concat_df = pd.concat([em_train_df, em_test_df])\n",
    "print(em_concat_df.shape)"
   ]
  },
  {
   "cell_type": "code",
   "execution_count": null,
   "metadata": {
    "colab": {
     "base_uri": "https://localhost:8080/",
     "height": 54
    },
    "colab_type": "code",
    "executionInfo": {
     "elapsed": 1106,
     "status": "ok",
     "timestamp": 1599234555526,
     "user": {
      "displayName": "___ he",
      "photoUrl": "https://lh3.googleusercontent.com/a-/AOh14GhtF_eOIBFxax69_lot3-pnRiKRYV51eIt3LkmrMQ=s64",
      "userId": "09313321800010264659"
     },
     "user_tz": -540
    },
    "id": "J-iGz8pAy9-W",
    "outputId": "b437dce5-783b-452a-b227-b9ed188c388b"
   },
   "outputs": [
    {
     "name": "stdout",
     "output_type": "stream",
     "text": [
      "110\n",
      "107\n"
     ]
    }
   ],
   "source": [
    "## 무형 train/ test 안의 상품 코드들 다 빼두기 \n",
    "train_check = len(set(train_data[train_data['p_cate'] == '무형']['p_code'].to_list()))\n",
    "test_check = len(set(test_data[test_data['p_cate'] == '무형']['p_code'].to_list()))\n",
    "print(train_check+test_check)\n",
    "em_pcode_list = list(set(em_concat_df['p_code'].to_list())) ## 무형중 겹치는거 3개 빠짐\n",
    "print(len(em_pcode_list))"
   ]
  },
  {
   "cell_type": "markdown",
   "metadata": {
    "colab_type": "text",
    "id": "LzrDwtALE47o"
   },
   "source": [
    "## 2. train. test p_code concat --> make dictionary and DF"
   ]
  },
  {
   "cell_type": "code",
   "execution_count": null,
   "metadata": {
    "colab": {
     "base_uri": "https://localhost:8080/",
     "height": 73
    },
    "colab_type": "code",
    "executionInfo": {
     "elapsed": 918,
     "status": "ok",
     "timestamp": 1599216183067,
     "user": {
      "displayName": "___ he",
      "photoUrl": "https://lh3.googleusercontent.com/a-/AOh14GhtF_eOIBFxax69_lot3-pnRiKRYV51eIt3LkmrMQ=s64",
      "userId": "09313321800010264659"
     },
     "user_tz": -540
    },
    "id": "XijkLeVNxBY2",
    "outputId": "d9b53748-2252-4eac-9c40-d6a7e165f3a4"
   },
   "outputs": [
    {
     "name": "stdout",
     "output_type": "stream",
     "text": [
      "2124\n",
      "417\n",
      "2514\n"
     ]
    }
   ],
   "source": [
    "# make dictionary code to product name \n",
    "\n",
    "code2name_dict_train = dict(zip(train_data['p_code'].to_list(), train_data['naver_cate_name'].to_list()))\n",
    "print(len(code2name_dict_train))\n",
    "code2name_dict_test = dict(zip(test_data['p_code'].to_list(), test_data['naver_cate_name'].to_list()))\n",
    "print(len(code2name_dict_test))\n",
    "code2name_dict_train.update(code2name_dict_test)\n",
    "code2name_dict = code2name_dict_train\n",
    "print(len(code2name_dict))"
   ]
  },
  {
   "cell_type": "code",
   "execution_count": null,
   "metadata": {
    "colab": {
     "base_uri": "https://localhost:8080/",
     "height": 416
    },
    "colab_type": "code",
    "executionInfo": {
     "elapsed": 1014,
     "status": "ok",
     "timestamp": 1599216185027,
     "user": {
      "displayName": "___ he",
      "photoUrl": "https://lh3.googleusercontent.com/a-/AOh14GhtF_eOIBFxax69_lot3-pnRiKRYV51eIt3LkmrMQ=s64",
      "userId": "09313321800010264659"
     },
     "user_tz": -540
    },
    "id": "VHyGBeTLFpJ8",
    "outputId": "e6e89cd8-9704-48ca-88ba-526256cfd1f4"
   },
   "outputs": [
    {
     "data": {
      "text/html": [
       "<div>\n",
       "<style scoped>\n",
       "    .dataframe tbody tr th:only-of-type {\n",
       "        vertical-align: middle;\n",
       "    }\n",
       "\n",
       "    .dataframe tbody tr th {\n",
       "        vertical-align: top;\n",
       "    }\n",
       "\n",
       "    .dataframe thead th {\n",
       "        text-align: right;\n",
       "    }\n",
       "</style>\n",
       "<table border=\"1\" class=\"dataframe\">\n",
       "  <thead>\n",
       "    <tr style=\"text-align: right;\">\n",
       "      <th></th>\n",
       "      <th>p_ocde</th>\n",
       "      <th>naver_cate_name</th>\n",
       "    </tr>\n",
       "  </thead>\n",
       "  <tbody>\n",
       "    <tr>\n",
       "      <th>0</th>\n",
       "      <td>201072</td>\n",
       "      <td>패션의류 테이트 남성 셀린니트3종</td>\n",
       "    </tr>\n",
       "    <tr>\n",
       "      <th>1</th>\n",
       "      <td>201079</td>\n",
       "      <td>패션의류 테이트 여성 셀린니트3종</td>\n",
       "    </tr>\n",
       "    <tr>\n",
       "      <th>2</th>\n",
       "      <td>200974</td>\n",
       "      <td>속옷 오모떼 레이스 파운데이션 브라</td>\n",
       "    </tr>\n",
       "    <tr>\n",
       "      <th>3</th>\n",
       "      <td>202377</td>\n",
       "      <td>패션의류 CERINI by PAT 남성 소프트 기모 릴렉스팬츠</td>\n",
       "    </tr>\n",
       "    <tr>\n",
       "      <th>4</th>\n",
       "      <td>202404</td>\n",
       "      <td>패션의류 보코 리버시블 무스탕</td>\n",
       "    </tr>\n",
       "    <tr>\n",
       "      <th>...</th>\n",
       "      <td>...</td>\n",
       "      <td>...</td>\n",
       "    </tr>\n",
       "    <tr>\n",
       "      <th>2509</th>\n",
       "      <td>202320</td>\n",
       "      <td>패션잡화 [루이띠에] 24K 999 순금 11.25g 샤인 볼륨 반지</td>\n",
       "    </tr>\n",
       "    <tr>\n",
       "      <th>2510</th>\n",
       "      <td>200862</td>\n",
       "      <td>식품 (특대사이즈) 안동간고등어 13팩</td>\n",
       "    </tr>\n",
       "    <tr>\n",
       "      <th>2511</th>\n",
       "      <td>200019</td>\n",
       "      <td>식품 AAC녹두삼계탕8팩</td>\n",
       "    </tr>\n",
       "    <tr>\n",
       "      <th>2512</th>\n",
       "      <td>200022</td>\n",
       "      <td>식품 AAC녹두삼계탕죽세트</td>\n",
       "    </tr>\n",
       "    <tr>\n",
       "      <th>2513</th>\n",
       "      <td>200875</td>\n",
       "      <td>패션의류 아놀드파마 티셔츠레깅스세트</td>\n",
       "    </tr>\n",
       "  </tbody>\n",
       "</table>\n",
       "<p>2514 rows × 2 columns</p>\n",
       "</div>"
      ],
      "text/plain": [
       "      p_ocde                         naver_cate_name\n",
       "0     201072                      패션의류 테이트 남성 셀린니트3종\n",
       "1     201079                      패션의류 테이트 여성 셀린니트3종\n",
       "2     200974                     속옷 오모떼 레이스 파운데이션 브라\n",
       "3     202377      패션의류 CERINI by PAT 남성 소프트 기모 릴렉스팬츠\n",
       "4     202404                        패션의류 보코 리버시블 무스탕\n",
       "...      ...                                     ...\n",
       "2509  202320  패션잡화 [루이띠에] 24K 999 순금 11.25g 샤인 볼륨 반지\n",
       "2510  200862                   식품 (특대사이즈) 안동간고등어 13팩\n",
       "2511  200019                           식품 AAC녹두삼계탕8팩\n",
       "2512  200022                          식품 AAC녹두삼계탕죽세트\n",
       "2513  200875                     패션의류 아놀드파마 티셔츠레깅스세트\n",
       "\n",
       "[2514 rows x 2 columns]"
      ]
     },
     "execution_count": 12,
     "metadata": {
      "tags": []
     },
     "output_type": "execute_result"
    }
   ],
   "source": [
    "# make data frame - unique p_code and p_name\n",
    "code2name_df = pd.DataFrame.from_dict(code2name_dict.items())\n",
    "code2name_df.columns = ['p_ocde', 'naver_cate_name']\n",
    "display(code2name_df)\n",
    "\n",
    "## SAVE DF \n",
    "file_path = \"/content/drive/My Drive/Colab Notebooks/2020bigcontest/data/\"\n",
    "code2name_df.to_csv(file_path+\"crawl_output_0904/unique_pcode_traintest_df(navercate_prep).csv\",index = False)"
   ]
  },
  {
   "cell_type": "markdown",
   "metadata": {
    "colab_type": "text",
    "id": "D7tBqcpCH0Rr"
   },
   "source": [
    "## 3. Crawling"
   ]
  },
  {
   "cell_type": "markdown",
   "metadata": {
    "colab_type": "text",
    "id": "wo_gPWwvJ05d"
   },
   "source": [
    "### 3.1 Crawl codes"
   ]
  },
  {
   "cell_type": "code",
   "execution_count": null,
   "metadata": {
    "colab": {},
    "colab_type": "code",
    "id": "l6iOHmuuxfov"
   },
   "outputs": [],
   "source": [
    "def crawl(keyword):\n",
    "    url = f\"https://search.shopping.naver.com/search/all.nhn?query={keyword}&cat_id=&frm=NVSHATC\"\n",
    "    data = requests.get(url)\n",
    "    return data.content"
   ]
  },
  {
   "cell_type": "code",
   "execution_count": null,
   "metadata": {
    "colab": {},
    "colab_type": "code",
    "id": "0xaihcjUwaV4"
   },
   "outputs": [],
   "source": [
    "def getCrawlInfo(li):\n",
    "    # get Productname, link, price \n",
    "    aTit = li.find(\"a\", {\"class\": \"basicList_link__1MaTN\"})\n",
    "    name = aTit.text\n",
    "    link = aTit['href']\n",
    "    price = li.find(\"span\", {\"class\":\"price_num__2WUXn\"}).text.replace(\",\", \"\")\n",
    "\n",
    "    # get Categories - 대/ 중/ 소  (없으면 None 으로 표기되도록)\n",
    "    cate_class = li.findAll(\"a\", {\"class\": \"basicList_category__wVevj\"})\n",
    "    # print(cate_class)\n",
    "    cate_list = [None, None, None, None]  # 0904 수정 - 카테고리 4개로 확장 \n",
    "    for idx in range(len(cate_class)): \n",
    "        if cate_class[idx] :\n",
    "            cate_list[idx] = cate_class[idx].text\n",
    "\n",
    "    result_dict = {\"name\":name, \"link\": link, \"price\":price, \"cate1\":cate_list[0] , \"cate2\":cate_list[1], \"cate3\":cate_list[2], \"cate4\":cate_list[3]}\n",
    "    # print(\"RESULT DICT\", result_dict)\n",
    "    return result_dict"
   ]
  },
  {
   "cell_type": "code",
   "execution_count": null,
   "metadata": {
    "colab": {},
    "colab_type": "code",
    "id": "FrYSNwDayZSO"
   },
   "outputs": [],
   "source": [
    "def parse(pageString):\n",
    "    bsObj = BeautifulSoup(pageString, \"html.parser\")\n",
    "    ul = bsObj.find(\"ul\", {\"class\":\"list_basis\"})\n",
    "\n",
    "    if ul: # 검색 결과 있는 경우 \n",
    "        lis = ul.find(\"li\",{\"class\":\"basicList_item__2XT81\"}) \n",
    "        crawl_info_dict = getCrawlInfo(lis)\n",
    "        crawl_info_dict['cr'] = 1 # 검색 결과 여부도 labeling - (결과 있으면 1)\n",
    "\n",
    "    else: # 검색 결과 없는 경우 \n",
    "        key_list = [\"name\", \"link\", \"price\", \"cate1\", \"cate2\", \"cate3\", \"cate4\"]\n",
    "        crawl_info_dict = dict(zip(key_list, [None]*6))\n",
    "        crawl_info_dict['cr'] = 0  # 검색 결과 여부도 labeling - (결과 없으면 0)\n",
    "\n",
    "    return crawl_info_dict"
   ]
  },
  {
   "cell_type": "code",
   "execution_count": null,
   "metadata": {
    "colab": {},
    "colab_type": "code",
    "id": "42_mnVUfybBJ"
   },
   "outputs": [],
   "source": [
    "def get_crawl_data(p_code, p_name):\n",
    "    try : \n",
    "        pageString = crawl(p_name)\n",
    "        crawl_info_dict = parse(pageString)\n",
    "        crawl_info_dict['p_code'] = p_code\n",
    "    except: \n",
    "        key_list = [\"name\", \"link\", \"price\", \"cate1\", \"cate2\", \"cate3\", \"cate4\"]\n",
    "        crawl_info_dict = dict(zip(key_list, [None]*len(key_list)))\n",
    "        crawl_info_dict['cr'] = -1  #에러 결과 여부도 labeling -1\n",
    "        crawl_info_dict['p_code'] = p_code\n",
    "    return crawl_info_dict"
   ]
  },
  {
   "cell_type": "markdown",
   "metadata": {
    "colab_type": "text",
    "id": "W4e3ALKsJ6lj"
   },
   "source": [
    "### 3.2 preprocessing again (크롤 안되었을경우 전처리하고 재검색 되도록)"
   ]
  },
  {
   "cell_type": "code",
   "execution_count": null,
   "metadata": {
    "colab": {},
    "colab_type": "code",
    "id": "J9eW8djEJ57N"
   },
   "outputs": [],
   "source": [
    "def prep1(text):\n",
    "    \n",
    "    text = re.sub('무이자', '', text)\n",
    "    text = re.sub('일시불', '', text)\n",
    "    text = re.sub(r'[^a-zA-Zㄱ-힗\\s]+[a-zA-Zㄱ-힗]+[^a-zA-Zㄱ-힗\\s]', ' ',text)\n",
    "    # print(text)\n",
    "    # text = re.sub('패키지', '', text)\n",
    "    # text = re.sub('세트', '', text)\n",
    "    text = re.sub('예약', '', text)\n",
    "    text = re.sub('상담', '', text)\n",
    "    text = re.sub('(무)', '', text)\n",
    "    text = re.sub('(일)', '', text)\n",
    "    \n",
    "    text = re.sub(r'[0-9]+인용', '', text)\n",
    "    text = re.sub(r'[0-9]+팩', '', text)\n",
    "    text = re.sub(r'[0-9]+종', '', text)\n",
    "\n",
    "    text = re.sub(r'[^a-zA-Zㄱ-힗]', ' ',text)\n",
    "    text = text.split()\n",
    "    # text = [tok for tok in text if l[^a-zA-Zㄱ-힗]en(tok)>1]\n",
    "    text = \" \".join(text)\n",
    "\n",
    "    # 띄어쓰기\n",
    "    result = spell_checker.check(text)\n",
    "    text = ' '.join([key for key in result.words.keys() if len(key)>1])\n",
    "    text = re.sub(r'\\<[^)]*\\>', '', text)\n",
    "\n",
    "    return text"
   ]
  },
  {
   "cell_type": "code",
   "execution_count": null,
   "metadata": {
    "colab": {
     "base_uri": "https://localhost:8080/",
     "height": 36
    },
    "colab_type": "code",
    "executionInfo": {
     "elapsed": 2206,
     "status": "ok",
     "timestamp": 1599231865287,
     "user": {
      "displayName": "___ he",
      "photoUrl": "https://lh3.googleusercontent.com/a-/AOh14GhtF_eOIBFxax69_lot3-pnRiKRYV51eIt3LkmrMQ=s64",
      "userId": "09313321800010264659"
     },
     "user_tz": -540
    },
    "id": "__OOxwobcZUw",
    "outputId": "57537eee-2c44-4210-fb5a-9d91570be6cf"
   },
   "outputs": [
    {
     "name": "stdout",
     "output_type": "stream",
     "text": [
      "주방용품 쿠쿠 전기밥솥\n"
     ]
    }
   ],
   "source": [
    "sample_text = '주방용품 (도냄)무이자 쿠쿠전기밥솥 10인용'\n",
    "print(prep1(sample_text))"
   ]
  },
  {
   "cell_type": "markdown",
   "metadata": {
    "colab_type": "text",
    "id": "1ixntoG6RAcS"
   },
   "source": [
    "### 3.3 main"
   ]
  },
  {
   "cell_type": "code",
   "execution_count": null,
   "metadata": {
    "colab": {},
    "colab_type": "code",
    "id": "oEYbd2121hMC"
   },
   "outputs": [],
   "source": [
    "def main(code2name_dict):\n",
    "    all_dict_list = []\n",
    "    for p_code, p_name in tqdm(code2name_dict.items()):\n",
    "        # print()\n",
    "        if p_name !=0:\n",
    "            one_crawl_dict = get_crawl_data(p_code, p_name)\n",
    "            if one_crawl_dict['cr'] != 1: # 검색이 되지 않은 경우 : 전체 단어 수에서 2개만 남을때까지 뒤에서 줄여나가며 재검색    \n",
    "\n",
    "                # 1. 전처리 시도 \n",
    "                up_p_name = prep1(p_name) \n",
    "                # print(\"PREP\",p_name,\"-->\",up_p_name)\n",
    "                one_crawl_dict = get_crawl_data(p_code, up_p_name)\n",
    "\n",
    "\n",
    "                # 전처리 해도 검색 되지 않는 경우 \n",
    "                if one_crawl_dict['cr'] != 1 :\n",
    "                    pop_up_p_name = up_p_name+'' \n",
    "                    p_name_list = pop_up_p_name.split()\n",
    "                    total_len = len(p_name_list)\n",
    "\n",
    "\n",
    "                    # 2. 글자수 뒤에서 부터 하나씩 줄여서 3개만 빼보기\n",
    "                    if total_len > 3: \n",
    "                        for _ in range(3):\n",
    "                            # print(\"update name -->\", pop_up_p_name)\n",
    "                            p_name_list.pop() # 맨뒤의 글자 하나 빼기 \n",
    "                            pop_up_p_name = ' '.join(p_name_list) # 다시 문자열로 변환해서 \n",
    "                            one_crawl_dict = get_crawl_data(p_code, pop_up_p_name)\n",
    "                            if one_crawl_dict['name']:\n",
    "                                break \n",
    "                            else:\n",
    "                                p_name_list = pop_up_p_name.split()   \n",
    "                    else: # 단어가 4개 토큰 그냥 pass\n",
    "                        pass\n",
    "\n",
    "            if one_crawl_dict['cr'] != 1: print(p_name) # 끝까지 검색 안된 상품명 출력 \n",
    "            all_dict_list.append(one_crawl_dict)\n",
    "            # print(p_code, p_name, one_crawl_dict)\n",
    "    return all_dict_list\n"
   ]
  },
  {
   "cell_type": "code",
   "execution_count": null,
   "metadata": {
    "colab": {
     "base_uri": "https://localhost:8080/",
     "height": 1000
    },
    "colab_type": "code",
    "executionInfo": {
     "elapsed": 7298791,
     "status": "ok",
     "timestamp": 1599223747951,
     "user": {
      "displayName": "___ he",
      "photoUrl": "https://lh3.googleusercontent.com/a-/AOh14GhtF_eOIBFxax69_lot3-pnRiKRYV51eIt3LkmrMQ=s64",
      "userId": "09313321800010264659"
     },
     "user_tz": -540
    },
    "id": "EqHIT5q4ycMj",
    "outputId": "b82b93f8-be21-427d-a4d6-bb0334356ffa"
   },
   "outputs": [
    {
     "name": "stderr",
     "output_type": "stream",
     "text": [
      "  4%|▎         | 90/2514 [03:47<2:24:18,  3.57s/it]"
     ]
    },
    {
     "name": "stdout",
     "output_type": "stream",
     "text": [
      "미용 마리끌레르 파리컬렉션 리얼 하이드로 립스틱(리뉴얼)\n"
     ]
    },
    {
     "name": "stderr",
     "output_type": "stream",
     "text": [
      "\r",
      "  4%|▎         | 91/2514 [03:53<2:55:13,  4.34s/it]"
     ]
    },
    {
     "name": "stdout",
     "output_type": "stream",
     "text": [
      "패션의류 아리스토우 남성기모티셔츠5종\n"
     ]
    },
    {
     "name": "stderr",
     "output_type": "stream",
     "text": [
      "  4%|▍         | 108/2514 [04:46<2:33:49,  3.84s/it]"
     ]
    },
    {
     "name": "stdout",
     "output_type": "stream",
     "text": [
      "식품 천수봉명인 선재 전통 메주세트\n"
     ]
    },
    {
     "name": "stderr",
     "output_type": "stream",
     "text": [
      "  5%|▍         | 116/2514 [05:09<2:23:55,  3.60s/it]"
     ]
    },
    {
     "name": "stdout",
     "output_type": "stream",
     "text": [
      "패션의류 아리스토우 남성 패딩트랙수트세트\n"
     ]
    },
    {
     "name": "stderr",
     "output_type": "stream",
     "text": [
      "\r",
      "  5%|▍         | 117/2514 [05:15<2:57:47,  4.45s/it]"
     ]
    },
    {
     "name": "stdout",
     "output_type": "stream",
     "text": [
      "패션의류 아리스토우 여성 패딩트랙수트세트\n"
     ]
    },
    {
     "name": "stderr",
     "output_type": "stream",
     "text": [
      "  5%|▌         | 131/2514 [06:13<2:15:23,  3.41s/it]"
     ]
    },
    {
     "name": "stdout",
     "output_type": "stream",
     "text": [
      "주방용품 무이자  모즈 미니오븐\n"
     ]
    },
    {
     "name": "stderr",
     "output_type": "stream",
     "text": [
      "\r",
      "  5%|▌         | 132/2514 [06:15<2:06:26,  3.18s/it]"
     ]
    },
    {
     "name": "stdout",
     "output_type": "stream",
     "text": [
      "주방용품 일시불  모즈 미니오븐\n"
     ]
    },
    {
     "name": "stderr",
     "output_type": "stream",
     "text": [
      "  6%|▌         | 144/2514 [06:51<2:50:45,  4.32s/it]"
     ]
    },
    {
     "name": "stdout",
     "output_type": "stream",
     "text": [
      "패션잡화 도스문도스 카이만 엠보 소가죽 핸드백 1종\n"
     ]
    },
    {
     "name": "stderr",
     "output_type": "stream",
     "text": [
      "  8%|▊         | 204/2514 [09:36<1:51:09,  2.89s/it]"
     ]
    },
    {
     "name": "stdout",
     "output_type": "stream",
     "text": [
      "무형 TCOM_처브치아보험\n"
     ]
    },
    {
     "name": "stderr",
     "output_type": "stream",
     "text": [
      " 12%|█▏        | 314/2514 [14:42<2:03:27,  3.37s/it]"
     ]
    },
    {
     "name": "stdout",
     "output_type": "stream",
     "text": [
      "패션잡화 로베르타 디 까메리노 아쿠아마레 백팩 4종세트\n"
     ]
    },
    {
     "name": "stderr",
     "output_type": "stream",
     "text": [
      " 15%|█▍        | 374/2514 [17:36<2:31:50,  4.26s/it]"
     ]
    },
    {
     "name": "stdout",
     "output_type": "stream",
     "text": [
      "속옷 (ARS10%)크로커다일 풀커버 레이스 브라팬티 4세트\n"
     ]
    },
    {
     "name": "stderr",
     "output_type": "stream",
     "text": [
      " 16%|█▌        | 406/2514 [19:13<2:48:44,  4.80s/it]"
     ]
    },
    {
     "name": "stdout",
     "output_type": "stream",
     "text": [
      "패션잡화 도스문도스 카이만 엠보 소가죽 핸드백 1종(SS)\n"
     ]
    },
    {
     "name": "stderr",
     "output_type": "stream",
     "text": [
      " 16%|█▋        | 412/2514 [19:33<2:28:14,  4.23s/it]"
     ]
    },
    {
     "name": "stdout",
     "output_type": "stream",
     "text": [
      "속옷 푸마 드라이셀 컴포트 탑 레이어 브라탑 4종세트(긴팔형)\n"
     ]
    },
    {
     "name": "stderr",
     "output_type": "stream",
     "text": [
      " 19%|█▊        | 466/2514 [21:56<2:12:25,  3.88s/it]"
     ]
    },
    {
     "name": "stdout",
     "output_type": "stream",
     "text": [
      "주방용품 베스트하임 더 담백한  에어프라이어 대용량  5.5L\n"
     ]
    },
    {
     "name": "stderr",
     "output_type": "stream",
     "text": [
      " 19%|█▉        | 484/2514 [22:59<2:15:28,  4.00s/it]"
     ]
    },
    {
     "name": "stdout",
     "output_type": "stream",
     "text": [
      "미용 마리끌레르 파리컬렉션 리얼 하이드로 립스틱(2019리뉴얼)\n"
     ]
    },
    {
     "name": "stderr",
     "output_type": "stream",
     "text": [
      " 21%|██▏       | 537/2514 [25:10<2:08:12,  3.89s/it]"
     ]
    },
    {
     "name": "stdout",
     "output_type": "stream",
     "text": [
      "패션의류 스텔라테일러 컴포트 스트레치 팬츠 3종\n"
     ]
    },
    {
     "name": "stderr",
     "output_type": "stream",
     "text": [
      " 24%|██▍       | 602/2514 [28:24<1:31:55,  2.88s/it]"
     ]
    },
    {
     "name": "stdout",
     "output_type": "stream",
     "text": [
      "무형 온라인투어 장사장가계(190420)\n"
     ]
    },
    {
     "name": "stderr",
     "output_type": "stream",
     "text": [
      " 25%|██▌       | 637/2514 [29:59<1:38:10,  3.14s/it]"
     ]
    },
    {
     "name": "stdout",
     "output_type": "stream",
     "text": [
      "패션의류 스텔라테일러 컴포트 스트레치 팬츠 3종\n"
     ]
    },
    {
     "name": "stderr",
     "output_type": "stream",
     "text": [
      " 27%|██▋       | 681/2514 [32:06<1:55:01,  3.77s/it]"
     ]
    },
    {
     "name": "stdout",
     "output_type": "stream",
     "text": [
      "패션잡화 도스문도스 카이만 엠보 소가죽 토트백 1종\n"
     ]
    },
    {
     "name": "stderr",
     "output_type": "stream",
     "text": [
      "\r",
      " 27%|██▋       | 682/2514 [32:12<2:22:19,  4.66s/it]"
     ]
    },
    {
     "name": "stdout",
     "output_type": "stream",
     "text": [
      "패션잡화 도스문도스 카이만 엠보 소가죽 체인 숄더백 1종\n"
     ]
    },
    {
     "name": "stderr",
     "output_type": "stream",
     "text": [
      " 28%|██▊       | 696/2514 [32:48<1:14:59,  2.47s/it]"
     ]
    },
    {
     "name": "stdout",
     "output_type": "stream",
     "text": [
      "무형 여행박사 대만(190503)\n"
     ]
    },
    {
     "name": "stderr",
     "output_type": "stream",
     "text": [
      " 29%|██▉       | 736/2514 [34:36<2:23:01,  4.83s/it]"
     ]
    },
    {
     "name": "stdout",
     "output_type": "stream",
     "text": [
      "패션잡화 로베르타 디 까메리노 아쿠아마레 백팩 5종세트\n"
     ]
    },
    {
     "name": "stderr",
     "output_type": "stream",
     "text": [
      " 30%|██▉       | 746/2514 [35:10<2:10:41,  4.43s/it]"
     ]
    },
    {
     "name": "stdout",
     "output_type": "stream",
     "text": [
      "무형 TCOM_현대해상 (무)하이콜운전자상해보험\n"
     ]
    },
    {
     "name": "stderr",
     "output_type": "stream",
     "text": [
      " 31%|███       | 781/2514 [36:48<1:47:14,  3.71s/it]"
     ]
    },
    {
     "name": "stdout",
     "output_type": "stream",
     "text": [
      "주방용품 무이자 쿠진 통구이 스핀 바비큐 그릴\n"
     ]
    },
    {
     "name": "stderr",
     "output_type": "stream",
     "text": [
      "\r",
      " 31%|███       | 782/2514 [36:54<2:07:36,  4.42s/it]"
     ]
    },
    {
     "name": "stdout",
     "output_type": "stream",
     "text": [
      "주방용품 일시불 쿠진 통구이 스핀 바비큐 그릴\n"
     ]
    },
    {
     "name": "stderr",
     "output_type": "stream",
     "text": [
      " 32%|███▏      | 807/2514 [38:22<1:13:57,  2.60s/it]"
     ]
    },
    {
     "name": "stdout",
     "output_type": "stream",
     "text": [
      "무형  용인공원라이프 스마트라이프48\n"
     ]
    },
    {
     "name": "stderr",
     "output_type": "stream",
     "text": [
      " 32%|███▏      | 811/2514 [38:35<1:42:03,  3.60s/it]"
     ]
    },
    {
     "name": "stdout",
     "output_type": "stream",
     "text": [
      "속옷 남영비비안 로즈버드 시그니처 볼륨 보정 브라패키지\n"
     ]
    },
    {
     "name": "stderr",
     "output_type": "stream",
     "text": [
      " 33%|███▎      | 840/2514 [40:10<1:33:37,  3.36s/it]"
     ]
    },
    {
     "name": "stdout",
     "output_type": "stream",
     "text": [
      "패션잡화 썸덱스 쉬룰 데일리 백팩 5종 세트\n"
     ]
    },
    {
     "name": "stderr",
     "output_type": "stream",
     "text": [
      " 38%|███▊      | 954/2514 [45:09<1:30:30,  3.48s/it]"
     ]
    },
    {
     "name": "stdout",
     "output_type": "stream",
     "text": [
      "생활 파격가 노비타 스마트 비데 무료설치\n"
     ]
    },
    {
     "name": "stderr",
     "output_type": "stream",
     "text": [
      " 38%|███▊      | 965/2514 [45:36<1:33:30,  3.62s/it]"
     ]
    },
    {
     "name": "stdout",
     "output_type": "stream",
     "text": [
      "패션잡화 도스문도스 카이만 엠보 소가죽 토트백 1종\n"
     ]
    },
    {
     "name": "stderr",
     "output_type": "stream",
     "text": [
      "\r",
      " 38%|███▊      | 966/2514 [45:42<1:53:21,  4.39s/it]"
     ]
    },
    {
     "name": "stdout",
     "output_type": "stream",
     "text": [
      "패션잡화 도스문도스 카이만 엠보 소가죽 체인 숄더백 1종\n"
     ]
    },
    {
     "name": "stderr",
     "output_type": "stream",
     "text": [
      " 39%|███▉      | 992/2514 [46:49<1:35:20,  3.76s/it]"
     ]
    },
    {
     "name": "stdout",
     "output_type": "stream",
     "text": [
      "침구 보몽드 엘사 자수 쿨 시어서커 침구세트 SS\n"
     ]
    },
    {
     "name": "stderr",
     "output_type": "stream",
     "text": [
      " 40%|███▉      | 995/2514 [47:10<2:28:49,  5.88s/it]"
     ]
    },
    {
     "name": "stdout",
     "output_type": "stream",
     "text": [
      "침구 보몽드 엘사 자수 쿨 시어서커 침구세트 SK(슈퍼킹)\n"
     ]
    },
    {
     "name": "stderr",
     "output_type": "stream",
     "text": [
      " 40%|████      | 1011/2514 [48:10<1:37:15,  3.88s/it]"
     ]
    },
    {
     "name": "stdout",
     "output_type": "stream",
     "text": [
      "속옷 크로커다일 에어스킨 감탄브라 패키지(CD19차)\n"
     ]
    },
    {
     "name": "stderr",
     "output_type": "stream",
     "text": [
      " 43%|████▎     | 1071/2514 [51:03<1:33:35,  3.89s/it]"
     ]
    },
    {
     "name": "stdout",
     "output_type": "stream",
     "text": [
      "패션잡화 도스문도스 카이만 엠보 소가죽 핸드백 1종(역시즌)\n"
     ]
    },
    {
     "name": "stderr",
     "output_type": "stream",
     "text": [
      " 44%|████▍     | 1102/2514 [52:30<1:58:44,  5.05s/it]"
     ]
    },
    {
     "name": "stdout",
     "output_type": "stream",
     "text": [
      "주방용품 무이자 하우홈 초고속 진공쿠킹블렌더\n"
     ]
    },
    {
     "name": "stderr",
     "output_type": "stream",
     "text": [
      "\r",
      " 44%|████▍     | 1103/2514 [52:36<2:06:28,  5.38s/it]"
     ]
    },
    {
     "name": "stdout",
     "output_type": "stream",
     "text": [
      "주방용품 일시불 하우홈 초고속 진공쿠킹블렌더\n"
     ]
    },
    {
     "name": "stderr",
     "output_type": "stream",
     "text": [
      " 44%|████▍     | 1109/2514 [52:53<1:27:19,  3.73s/it]"
     ]
    },
    {
     "name": "stdout",
     "output_type": "stream",
     "text": [
      "속옷 남영비비안 로즈버드 듀얼윙 스킨 보정 브라패키지\n"
     ]
    },
    {
     "name": "stderr",
     "output_type": "stream",
     "text": [
      " 44%|████▍     | 1112/2514 [53:06<1:46:01,  4.54s/it]"
     ]
    },
    {
     "name": "stdout",
     "output_type": "stream",
     "text": [
      "패션잡화 루이띠에 순금 샤이닝 러브 목걸이 35g+골드바 1g\n"
     ]
    },
    {
     "name": "stderr",
     "output_type": "stream",
     "text": [
      "\r",
      " 44%|████▍     | 1113/2514 [53:13<1:59:56,  5.14s/it]"
     ]
    },
    {
     "name": "stdout",
     "output_type": "stream",
     "text": [
      "패션잡화 루이띠에 순금 샤이닝 러브 팔찌 35g+골드바 1g\n"
     ]
    },
    {
     "name": "stderr",
     "output_type": "stream",
     "text": [
      "\r",
      " 44%|████▍     | 1114/2514 [53:19<2:10:47,  5.61s/it]"
     ]
    },
    {
     "name": "stdout",
     "output_type": "stream",
     "text": [
      "패션잡화 루이띠에 순금 크로스 트리플 목걸이 18g+골드바 1g\n"
     ]
    },
    {
     "name": "stderr",
     "output_type": "stream",
     "text": [
      "\r",
      " 44%|████▍     | 1115/2514 [53:26<2:16:53,  5.87s/it]"
     ]
    },
    {
     "name": "stdout",
     "output_type": "stream",
     "text": [
      "패션잡화 루이띠에 순금 크로스 트리플 팔찌 18g+골드바 1g\n"
     ]
    },
    {
     "name": "stderr",
     "output_type": "stream",
     "text": [
      "\r",
      " 44%|████▍     | 1116/2514 [53:32<2:21:51,  6.09s/it]"
     ]
    },
    {
     "name": "stdout",
     "output_type": "stream",
     "text": [
      "패션잡화 루이띠에 순금 미라클 트리플 링 15g+골드바 1g\n"
     ]
    },
    {
     "name": "stderr",
     "output_type": "stream",
     "text": [
      "\r",
      " 44%|████▍     | 1117/2514 [53:40<2:30:27,  6.46s/it]"
     ]
    },
    {
     "name": "stdout",
     "output_type": "stream",
     "text": [
      "패션잡화 루이띠에 순금 신디스틱 목걸이 13g+골드바 1g\n"
     ]
    },
    {
     "name": "stderr",
     "output_type": "stream",
     "text": [
      "\r",
      " 44%|████▍     | 1118/2514 [53:46<2:30:29,  6.47s/it]"
     ]
    },
    {
     "name": "stdout",
     "output_type": "stream",
     "text": [
      "패션잡화 루이띠에 순금 신디스틱 팔찌 13g+골드바 1g\n"
     ]
    },
    {
     "name": "stderr",
     "output_type": "stream",
     "text": [
      " 48%|████▊     | 1199/2514 [57:31<1:03:37,  2.90s/it]"
     ]
    },
    {
     "name": "stdout",
     "output_type": "stream",
     "text": [
      "패션잡화 [루이띠에] 18K 베르니아  반지\n"
     ]
    },
    {
     "name": "stderr",
     "output_type": "stream",
     "text": [
      " 48%|████▊     | 1212/2514 [58:14<1:37:39,  4.50s/it]"
     ]
    },
    {
     "name": "stdout",
     "output_type": "stream",
     "text": [
      "패션잡화 [일시불] 가이거 무빙스타 다이아몬드 워치+보석함\n"
     ]
    },
    {
     "name": "stderr",
     "output_type": "stream",
     "text": [
      "\r",
      " 48%|████▊     | 1213/2514 [58:19<1:44:57,  4.84s/it]"
     ]
    },
    {
     "name": "stdout",
     "output_type": "stream",
     "text": [
      "패션잡화 [무이자] 가이거 무빙스타 다이아몬드 워치+보석함\n"
     ]
    },
    {
     "name": "stderr",
     "output_type": "stream",
     "text": [
      " 52%|█████▏    | 1312/2514 [1:02:40<1:34:41,  4.73s/it]"
     ]
    },
    {
     "name": "stdout",
     "output_type": "stream",
     "text": [
      "생활 벨라홈 2way  타퍼 꿀잠 매트리스  싱글 세트\n"
     ]
    },
    {
     "name": "stderr",
     "output_type": "stream",
     "text": [
      "\r",
      " 52%|█████▏    | 1313/2514 [1:02:46<1:43:13,  5.16s/it]"
     ]
    },
    {
     "name": "stdout",
     "output_type": "stream",
     "text": [
      "생활 벨라홈 2way  타퍼 꿀잠 매트리스  퀸+ 싱글 세트\n"
     ]
    },
    {
     "name": "stderr",
     "output_type": "stream",
     "text": [
      " 56%|█████▌    | 1409/2514 [1:07:35<1:09:30,  3.77s/it]"
     ]
    },
    {
     "name": "stdout",
     "output_type": "stream",
     "text": [
      "주방용품 SK매직 파워워시 식기세척기 터치온\n"
     ]
    },
    {
     "name": "stderr",
     "output_type": "stream",
     "text": [
      " 56%|█████▋    | 1419/2514 [1:07:57<48:23,  2.65s/it]"
     ]
    },
    {
     "name": "stdout",
     "output_type": "stream",
     "text": [
      "무형 TCOM_X-RUN Serise\n"
     ]
    },
    {
     "name": "stderr",
     "output_type": "stream",
     "text": [
      " 57%|█████▋    | 1436/2514 [1:08:47<58:11,  3.24s/it]"
     ]
    },
    {
     "name": "stdout",
     "output_type": "stream",
     "text": [
      "미용 마리끌레르 파리컬렉션 리얼 하이드로 립스틱(마스카라)\n"
     ]
    },
    {
     "name": "stderr",
     "output_type": "stream",
     "text": [
      " 57%|█████▋    | 1445/2514 [1:09:11<1:05:52,  3.70s/it]"
     ]
    },
    {
     "name": "stdout",
     "output_type": "stream",
     "text": [
      "패션잡화 도스문도스 카이만 엠보 소가죽 토트백 1종\n"
     ]
    },
    {
     "name": "stderr",
     "output_type": "stream",
     "text": [
      "\r",
      " 58%|█████▊    | 1446/2514 [1:09:18<1:23:03,  4.67s/it]"
     ]
    },
    {
     "name": "stdout",
     "output_type": "stream",
     "text": [
      "패션잡화 도스문도스 카이만 엠보 소가죽 체인 숄더백 1종\n"
     ]
    },
    {
     "name": "stderr",
     "output_type": "stream",
     "text": [
      " 58%|█████▊    | 1450/2514 [1:09:30<1:12:14,  4.07s/it]"
     ]
    },
    {
     "name": "stdout",
     "output_type": "stream",
     "text": [
      "침구 보몽드 클라라 소프트플란넬 침구세트 SK(슈퍼킹)\n"
     ]
    },
    {
     "name": "stderr",
     "output_type": "stream",
     "text": [
      "\r",
      " 58%|█████▊    | 1451/2514 [1:09:37<1:24:23,  4.76s/it]"
     ]
    },
    {
     "name": "stdout",
     "output_type": "stream",
     "text": [
      "침구 보몽드 클라라 소프트플란넬 침구세트 K(킹)\n"
     ]
    },
    {
     "name": "stderr",
     "output_type": "stream",
     "text": [
      "\r",
      " 58%|█████▊    | 1452/2514 [1:09:43<1:33:21,  5.27s/it]"
     ]
    },
    {
     "name": "stdout",
     "output_type": "stream",
     "text": [
      "침구 보몽드 클라라 소프트플란넬 침구세트 Q(퀸)\n"
     ]
    },
    {
     "name": "stderr",
     "output_type": "stream",
     "text": [
      "\r",
      " 58%|█████▊    | 1453/2514 [1:09:50<1:39:39,  5.64s/it]"
     ]
    },
    {
     "name": "stdout",
     "output_type": "stream",
     "text": [
      "침구 보몽드 클라라 소프트플란넬 침구세트 SS(슈퍼싱글)\n"
     ]
    },
    {
     "name": "stderr",
     "output_type": "stream",
     "text": [
      " 58%|█████▊    | 1462/2514 [1:10:17<1:11:33,  4.08s/it]"
     ]
    },
    {
     "name": "stdout",
     "output_type": "stream",
     "text": [
      "패션잡화 도스문도스 카이만엠보 소가죽 토트백 2종 \n"
     ]
    },
    {
     "name": "stderr",
     "output_type": "stream",
     "text": [
      " 59%|█████▉    | 1491/2514 [1:11:43<58:25,  3.43s/it]"
     ]
    },
    {
     "name": "stdout",
     "output_type": "stream",
     "text": [
      "주방용품 무이자 실리만 하이브리드 냄비후라이팬 IH 풀세트\n"
     ]
    },
    {
     "name": "stderr",
     "output_type": "stream",
     "text": [
      "\r",
      " 59%|█████▉    | 1492/2514 [1:11:49<1:13:33,  4.32s/it]"
     ]
    },
    {
     "name": "stdout",
     "output_type": "stream",
     "text": [
      "주방용품 일시불 실리만 하이브리드 냄비후라이팬 IH 풀세트\n"
     ]
    },
    {
     "name": "stderr",
     "output_type": "stream",
     "text": [
      " 62%|██████▏   | 1559/2514 [1:15:08<1:00:13,  3.78s/it]"
     ]
    },
    {
     "name": "stdout",
     "output_type": "stream",
     "text": [
      "패션잡화 갈란테 프리미엄 에디션(남성화 3종 + 면도기 1종)\n"
     ]
    },
    {
     "name": "stderr",
     "output_type": "stream",
     "text": [
      " 64%|██████▍   | 1609/2514 [1:17:40<43:05,  2.86s/it]"
     ]
    },
    {
     "name": "stdout",
     "output_type": "stream",
     "text": [
      "무형 하나투어 중남미 페루일주 (191001) 상담예약\n"
     ]
    },
    {
     "name": "stderr",
     "output_type": "stream",
     "text": [
      " 68%|██████▊   | 1703/2514 [1:22:18<51:23,  3.80s/it]"
     ]
    },
    {
     "name": "stdout",
     "output_type": "stream",
     "text": [
      "생활 파로마 레어 메모리폼 타퍼 슈퍼싱글\n"
     ]
    },
    {
     "name": "stderr",
     "output_type": "stream",
     "text": [
      " 70%|██████▉   | 1753/2514 [1:24:56<51:36,  4.07s/it]"
     ]
    },
    {
     "name": "stdout",
     "output_type": "stream",
     "text": [
      "침구 보몽드 헤르만 착번아웃 극세사 침구세트 SK(슈퍼킹)\n"
     ]
    },
    {
     "name": "stderr",
     "output_type": "stream",
     "text": [
      "\r",
      " 70%|██████▉   | 1754/2514 [1:25:02<59:43,  4.72s/it]"
     ]
    },
    {
     "name": "stdout",
     "output_type": "stream",
     "text": [
      "침구 보몽드 헤르만 착번아웃 극세사 침구세트 K(킹)\n"
     ]
    },
    {
     "name": "stderr",
     "output_type": "stream",
     "text": [
      "\r",
      " 70%|██████▉   | 1755/2514 [1:25:08<1:05:09,  5.15s/it]"
     ]
    },
    {
     "name": "stdout",
     "output_type": "stream",
     "text": [
      "침구 보몽드 헤르만 착번아웃 극세사 침구세트 Q(퀸)\n"
     ]
    },
    {
     "name": "stderr",
     "output_type": "stream",
     "text": [
      "\r",
      " 70%|██████▉   | 1756/2514 [1:25:15<1:09:04,  5.47s/it]"
     ]
    },
    {
     "name": "stdout",
     "output_type": "stream",
     "text": [
      "침구 보몽드 헤르만 착번아웃 극세사 침구세트 SS(슈퍼싱글)\n"
     ]
    },
    {
     "name": "stderr",
     "output_type": "stream",
     "text": [
      " 71%|███████▏  | 1792/2514 [1:26:54<43:05,  3.58s/it]"
     ]
    },
    {
     "name": "stdout",
     "output_type": "stream",
     "text": [
      "패션잡화 생쥴랑 18K 피오레 볼륨 주얼리 컬렉션 (18K 총6종)\n"
     ]
    },
    {
     "name": "stderr",
     "output_type": "stream",
     "text": [
      " 72%|███████▏  | 1809/2514 [1:27:40<44:53,  3.82s/it]"
     ]
    },
    {
     "name": "stdout",
     "output_type": "stream",
     "text": [
      "생활 코지마 손목형 자동전자 혈압계 CBP-160\n"
     ]
    },
    {
     "name": "stderr",
     "output_type": "stream",
     "text": [
      " 72%|███████▏  | 1815/2514 [1:28:10<1:07:00,  5.75s/it]"
     ]
    },
    {
     "name": "stdout",
     "output_type": "stream",
     "text": [
      "생활 초특가 자미코코 텐셀 3단 접이식  매트 더블 + 경추베개\n"
     ]
    },
    {
     "name": "stderr",
     "output_type": "stream",
     "text": [
      "\r",
      " 72%|███████▏  | 1816/2514 [1:28:17<1:11:53,  6.18s/it]"
     ]
    },
    {
     "name": "stdout",
     "output_type": "stream",
     "text": [
      "생활 초특가 자미코코 3단 접이식 텐셀 매트 싱글 + 경추베개\n"
     ]
    },
    {
     "name": "stderr",
     "output_type": "stream",
     "text": [
      " 72%|███████▏  | 1822/2514 [1:28:39<42:24,  3.68s/it]"
     ]
    },
    {
     "name": "stdout",
     "output_type": "stream",
     "text": [
      "무형 온라인투어 대련 아시아나(191108) 상담예약\n"
     ]
    },
    {
     "name": "stderr",
     "output_type": "stream",
     "text": [
      " 73%|███████▎  | 1824/2514 [1:28:49<52:43,  4.59s/it]"
     ]
    },
    {
     "name": "stdout",
     "output_type": "stream",
     "text": [
      "생활 무이자 루미테라피 노즈케어 저출력광선조사기, LN-01W\n"
     ]
    },
    {
     "name": "stderr",
     "output_type": "stream",
     "text": [
      "\r",
      " 73%|███████▎  | 1825/2514 [1:28:56<58:10,  5.07s/it]"
     ]
    },
    {
     "name": "stdout",
     "output_type": "stream",
     "text": [
      "생활 일시불 루미테라피 노즈케어 저출력광선조사기, LN-01W\n"
     ]
    },
    {
     "name": "stderr",
     "output_type": "stream",
     "text": [
      " 73%|███████▎  | 1827/2514 [1:29:00<41:35,  3.63s/it]"
     ]
    },
    {
     "name": "stdout",
     "output_type": "stream",
     "text": [
      "생활 엑사이더 워킹머신\n"
     ]
    },
    {
     "name": "stderr",
     "output_type": "stream",
     "text": [
      " 73%|███████▎  | 1844/2514 [1:30:01<57:06,  5.11s/it]"
     ]
    },
    {
     "name": "stdout",
     "output_type": "stream",
     "text": [
      "속옷 란체티 남성 융기모 히팅 동내의 패키지\n"
     ]
    },
    {
     "name": "stderr",
     "output_type": "stream",
     "text": [
      "\r",
      " 73%|███████▎  | 1845/2514 [1:30:09<1:04:33,  5.79s/it]"
     ]
    },
    {
     "name": "stdout",
     "output_type": "stream",
     "text": [
      "속옷 란체티 여성 융기모 히팅 동내의 패키지\n"
     ]
    },
    {
     "name": "stderr",
     "output_type": "stream",
     "text": [
      " 75%|███████▌  | 1896/2514 [1:32:31<46:13,  4.49s/it]"
     ]
    },
    {
     "name": "stdout",
     "output_type": "stream",
     "text": [
      "속옷 오렐리안 히트모 스킨컬렉션 기모런닝 패키지\n"
     ]
    },
    {
     "name": "stderr",
     "output_type": "stream",
     "text": [
      " 78%|███████▊  | 1967/2514 [1:36:14<41:27,  4.55s/it]"
     ]
    },
    {
     "name": "stdout",
     "output_type": "stream",
     "text": [
      "패션잡화 트레스패스 남성 다이얼락 방한화 + 기모 워킹화 2종\n"
     ]
    },
    {
     "name": "stderr",
     "output_type": "stream",
     "text": [
      " 83%|████████▎ | 2099/2514 [1:42:55<32:41,  4.73s/it]"
     ]
    },
    {
     "name": "stdout",
     "output_type": "stream",
     "text": [
      "패션의류 마르엘라로사티 나파 휘메일 풀스킨 밍크하프코트(11월)\n"
     ]
    },
    {
     "name": "stderr",
     "output_type": "stream",
     "text": [
      " 84%|████████▍ | 2110/2514 [1:43:25<19:06,  2.84s/it]"
     ]
    },
    {
     "name": "stdout",
     "output_type": "stream",
     "text": [
      "무형 롯데관광 세부 (191227)상담예약\n"
     ]
    },
    {
     "name": "stderr",
     "output_type": "stream",
     "text": [
      " 84%|████████▍ | 2124/2514 [1:43:59<17:09,  2.64s/it]"
     ]
    },
    {
     "name": "stdout",
     "output_type": "stream",
     "text": [
      "무형 더케이 예다함 상조서비스(티포트)\n"
     ]
    },
    {
     "name": "stderr",
     "output_type": "stream",
     "text": [
      " 85%|████████▌ | 2149/2514 [1:45:04<21:11,  3.48s/it]"
     ]
    },
    {
     "name": "stdout",
     "output_type": "stream",
     "text": [
      "무형 디비손보 아임오케이 암보험(20.05런칭)\n"
     ]
    },
    {
     "name": "stderr",
     "output_type": "stream",
     "text": [
      " 86%|████████▌ | 2153/2514 [1:45:20<26:36,  4.42s/it]"
     ]
    },
    {
     "name": "stdout",
     "output_type": "stream",
     "text": [
      "패션의류 마르엘라로사티 린넨 베스트 세트[3월]\n"
     ]
    },
    {
     "name": "stderr",
     "output_type": "stream",
     "text": [
      " 88%|████████▊ | 2215/2514 [1:48:01<18:32,  3.72s/it]"
     ]
    },
    {
     "name": "stdout",
     "output_type": "stream",
     "text": [
      "생활 신일써큘레이터 스탠드 화이트+화이트(PC60TPO)\n"
     ]
    },
    {
     "name": "stderr",
     "output_type": "stream",
     "text": [
      "\r",
      " 88%|████████▊ | 2216/2514 [1:48:08<22:32,  4.54s/it]"
     ]
    },
    {
     "name": "stdout",
     "output_type": "stream",
     "text": [
      "생활 신일써큘레이터 스탠드 블랙(SIF-PC30DCC)\n"
     ]
    },
    {
     "name": "stderr",
     "output_type": "stream",
     "text": [
      " 91%|█████████ | 2289/2514 [1:51:32<13:31,  3.61s/it]"
     ]
    },
    {
     "name": "stdout",
     "output_type": "stream",
     "text": [
      "생활 무이자 파격찬스 굿프렌드  스트레칭 안마 매트 GOOD-A7\n"
     ]
    },
    {
     "name": "stderr",
     "output_type": "stream",
     "text": [
      "\r",
      " 91%|█████████ | 2290/2514 [1:51:38<16:12,  4.34s/it]"
     ]
    },
    {
     "name": "stdout",
     "output_type": "stream",
     "text": [
      "생활 일시불 파격찬스 굿프렌드  스트레칭 안마 매트 GOOD-A7\n"
     ]
    },
    {
     "name": "stderr",
     "output_type": "stream",
     "text": [
      " 91%|█████████▏| 2300/2514 [1:52:04<12:45,  3.58s/it]"
     ]
    },
    {
     "name": "stdout",
     "output_type": "stream",
     "text": [
      "침구 보몽드 실루엣 쿨시어서커 침구 풀세트 SK(슈퍼킹)+홑이불\n"
     ]
    },
    {
     "name": "stderr",
     "output_type": "stream",
     "text": [
      " 95%|█████████▍| 2379/2514 [1:55:43<05:34,  2.48s/it]"
     ]
    },
    {
     "name": "stdout",
     "output_type": "stream",
     "text": [
      "생활  신일에어쿨러엣지 (SIF-P75MD)\n"
     ]
    },
    {
     "name": "stderr",
     "output_type": "stream",
     "text": [
      " 95%|█████████▌| 2398/2514 [1:56:34<06:36,  3.42s/it]"
     ]
    },
    {
     "name": "stdout",
     "output_type": "stream",
     "text": [
      "생활 에브리빙 기능성 쿨잠패드 세트 SK(슈퍼킹)\n"
     ]
    },
    {
     "name": "stderr",
     "output_type": "stream",
     "text": [
      " 96%|█████████▌| 2401/2514 [1:56:48<08:13,  4.36s/it]"
     ]
    },
    {
     "name": "stdout",
     "output_type": "stream",
     "text": [
      "생활 에브리빙 기능성 쿨잠패드 세트 SS(슈퍼싱글)\n"
     ]
    },
    {
     "name": "stderr",
     "output_type": "stream",
     "text": [
      " 96%|█████████▌| 2403/2514 [1:56:57<08:34,  4.64s/it]"
     ]
    },
    {
     "name": "stdout",
     "output_type": "stream",
     "text": [
      "생활 파격할인 프리미엄 니봇 시그니처 로봇청소기 + 셰퍼데일리 청소기\n"
     ]
    },
    {
     "name": "stderr",
     "output_type": "stream",
     "text": [
      "100%|██████████| 2514/2514 [2:01:37<00:00,  2.90s/it]\n"
     ]
    }
   ],
   "source": [
    "## CRAWLING ! \n",
    "all_dict_list = main(code2name_dict)"
   ]
  },
  {
   "cell_type": "code",
   "execution_count": null,
   "metadata": {
    "colab": {
     "base_uri": "https://localhost:8080/",
     "height": 36
    },
    "colab_type": "code",
    "executionInfo": {
     "elapsed": 1392,
     "status": "ok",
     "timestamp": 1599223749379,
     "user": {
      "displayName": "___ he",
      "photoUrl": "https://lh3.googleusercontent.com/a-/AOh14GhtF_eOIBFxax69_lot3-pnRiKRYV51eIt3LkmrMQ=s64",
      "userId": "09313321800010264659"
     },
     "user_tz": -540
    },
    "id": "ABUjdLvz50dj",
    "outputId": "9864ace5-e602-4b06-eed1-e7af231b0b4d"
   },
   "outputs": [
    {
     "data": {
      "text/plain": [
       "3168144"
      ]
     },
     "execution_count": 35,
     "metadata": {
      "tags": []
     },
     "output_type": "execute_result"
    }
   ],
   "source": [
    "import json\n",
    "file_path = \"/content/drive/My Drive/Colab Notebooks/2020bigcontest/data/\"\n",
    "result_file = open(file_path+\"crawl_output_0904/result_dict(0904).json\",'w+')\n",
    "result_file.write(json.dumps(all_dict_list))\n",
    "crawling_df = pd.read_json(file_path+\"crawl_output_0904/result_dict(0904).json\")\n",
    "crawling_df = crawling_df[['p_code','cr','name','link','price','cate1','cate2','cate3', \"cate4\"]]\n",
    "crawling_df.to_csv(file_path+\"crawl_output_0904/crawl_uniquecode(0904).csv\", index = False)"
   ]
  },
  {
   "cell_type": "code",
   "execution_count": null,
   "metadata": {
    "colab": {
     "base_uri": "https://localhost:8080/",
     "height": 416
    },
    "colab_type": "code",
    "executionInfo": {
     "elapsed": 913,
     "status": "ok",
     "timestamp": 1599223812671,
     "user": {
      "displayName": "___ he",
      "photoUrl": "https://lh3.googleusercontent.com/a-/AOh14GhtF_eOIBFxax69_lot3-pnRiKRYV51eIt3LkmrMQ=s64",
      "userId": "09313321800010264659"
     },
     "user_tz": -540
    },
    "id": "1Qw9NQGPKlpL",
    "outputId": "f72e7a97-6469-4383-e0b9-48dcb3f4cd5d"
   },
   "outputs": [
    {
     "data": {
      "text/html": [
       "<div>\n",
       "<style scoped>\n",
       "    .dataframe tbody tr th:only-of-type {\n",
       "        vertical-align: middle;\n",
       "    }\n",
       "\n",
       "    .dataframe tbody tr th {\n",
       "        vertical-align: top;\n",
       "    }\n",
       "\n",
       "    .dataframe thead th {\n",
       "        text-align: right;\n",
       "    }\n",
       "</style>\n",
       "<table border=\"1\" class=\"dataframe\">\n",
       "  <thead>\n",
       "    <tr style=\"text-align: right;\">\n",
       "      <th></th>\n",
       "      <th>p_code</th>\n",
       "      <th>cr</th>\n",
       "      <th>name</th>\n",
       "      <th>link</th>\n",
       "      <th>price</th>\n",
       "      <th>cate1</th>\n",
       "      <th>cate2</th>\n",
       "      <th>cate3</th>\n",
       "      <th>cate4</th>\n",
       "    </tr>\n",
       "  </thead>\n",
       "  <tbody>\n",
       "    <tr>\n",
       "      <th>89</th>\n",
       "      <td>200881</td>\n",
       "      <td>0</td>\n",
       "      <td>None</td>\n",
       "      <td>None</td>\n",
       "      <td>None</td>\n",
       "      <td>None</td>\n",
       "      <td>None</td>\n",
       "      <td>None</td>\n",
       "      <td>None</td>\n",
       "    </tr>\n",
       "    <tr>\n",
       "      <th>90</th>\n",
       "      <td>201059</td>\n",
       "      <td>0</td>\n",
       "      <td>None</td>\n",
       "      <td>None</td>\n",
       "      <td>None</td>\n",
       "      <td>None</td>\n",
       "      <td>None</td>\n",
       "      <td>None</td>\n",
       "      <td>None</td>\n",
       "    </tr>\n",
       "    <tr>\n",
       "      <th>107</th>\n",
       "      <td>202076</td>\n",
       "      <td>0</td>\n",
       "      <td>None</td>\n",
       "      <td>None</td>\n",
       "      <td>None</td>\n",
       "      <td>None</td>\n",
       "      <td>None</td>\n",
       "      <td>None</td>\n",
       "      <td>None</td>\n",
       "    </tr>\n",
       "    <tr>\n",
       "      <th>115</th>\n",
       "      <td>201058</td>\n",
       "      <td>0</td>\n",
       "      <td>None</td>\n",
       "      <td>None</td>\n",
       "      <td>None</td>\n",
       "      <td>None</td>\n",
       "      <td>None</td>\n",
       "      <td>None</td>\n",
       "      <td>None</td>\n",
       "    </tr>\n",
       "    <tr>\n",
       "      <th>116</th>\n",
       "      <td>201061</td>\n",
       "      <td>0</td>\n",
       "      <td>None</td>\n",
       "      <td>None</td>\n",
       "      <td>None</td>\n",
       "      <td>None</td>\n",
       "      <td>None</td>\n",
       "      <td>None</td>\n",
       "      <td>None</td>\n",
       "    </tr>\n",
       "    <tr>\n",
       "      <th>...</th>\n",
       "      <td>...</td>\n",
       "      <td>...</td>\n",
       "      <td>...</td>\n",
       "      <td>...</td>\n",
       "      <td>...</td>\n",
       "      <td>...</td>\n",
       "      <td>...</td>\n",
       "      <td>...</td>\n",
       "      <td>...</td>\n",
       "    </tr>\n",
       "    <tr>\n",
       "      <th>2299</th>\n",
       "      <td>200380</td>\n",
       "      <td>0</td>\n",
       "      <td>None</td>\n",
       "      <td>None</td>\n",
       "      <td>None</td>\n",
       "      <td>None</td>\n",
       "      <td>None</td>\n",
       "      <td>None</td>\n",
       "      <td>None</td>\n",
       "    </tr>\n",
       "    <tr>\n",
       "      <th>2378</th>\n",
       "      <td>201809</td>\n",
       "      <td>0</td>\n",
       "      <td>None</td>\n",
       "      <td>None</td>\n",
       "      <td>None</td>\n",
       "      <td>None</td>\n",
       "      <td>None</td>\n",
       "      <td>None</td>\n",
       "      <td>None</td>\n",
       "    </tr>\n",
       "    <tr>\n",
       "      <th>2397</th>\n",
       "      <td>200323</td>\n",
       "      <td>0</td>\n",
       "      <td>None</td>\n",
       "      <td>None</td>\n",
       "      <td>None</td>\n",
       "      <td>None</td>\n",
       "      <td>None</td>\n",
       "      <td>None</td>\n",
       "      <td>None</td>\n",
       "    </tr>\n",
       "    <tr>\n",
       "      <th>2400</th>\n",
       "      <td>200324</td>\n",
       "      <td>0</td>\n",
       "      <td>None</td>\n",
       "      <td>None</td>\n",
       "      <td>None</td>\n",
       "      <td>None</td>\n",
       "      <td>None</td>\n",
       "      <td>None</td>\n",
       "      <td>None</td>\n",
       "    </tr>\n",
       "    <tr>\n",
       "      <th>2402</th>\n",
       "      <td>201242</td>\n",
       "      <td>0</td>\n",
       "      <td>None</td>\n",
       "      <td>None</td>\n",
       "      <td>None</td>\n",
       "      <td>None</td>\n",
       "      <td>None</td>\n",
       "      <td>None</td>\n",
       "      <td>None</td>\n",
       "    </tr>\n",
       "  </tbody>\n",
       "</table>\n",
       "<p>95 rows × 9 columns</p>\n",
       "</div>"
      ],
      "text/plain": [
       "      p_code  cr  name  link price cate1 cate2 cate3 cate4\n",
       "89    200881   0  None  None  None  None  None  None  None\n",
       "90    201059   0  None  None  None  None  None  None  None\n",
       "107   202076   0  None  None  None  None  None  None  None\n",
       "115   201058   0  None  None  None  None  None  None  None\n",
       "116   201061   0  None  None  None  None  None  None  None\n",
       "...      ...  ..   ...   ...   ...   ...   ...   ...   ...\n",
       "2299  200380   0  None  None  None  None  None  None  None\n",
       "2378  201809   0  None  None  None  None  None  None  None\n",
       "2397  200323   0  None  None  None  None  None  None  None\n",
       "2400  200324   0  None  None  None  None  None  None  None\n",
       "2402  201242   0  None  None  None  None  None  None  None\n",
       "\n",
       "[95 rows x 9 columns]"
      ]
     },
     "execution_count": 39,
     "metadata": {
      "tags": []
     },
     "output_type": "execute_result"
    }
   ],
   "source": [
    "crawling_df[crawling_df['cr'] !=1]"
   ]
  },
  {
   "cell_type": "markdown",
   "metadata": {
    "colab_type": "text",
    "id": "B4WzkHa6xgxW"
   },
   "source": []
  },
  {
   "cell_type": "code",
   "execution_count": null,
   "metadata": {
    "colab": {
     "base_uri": "https://localhost:8080/",
     "height": 36
    },
    "colab_type": "code",
    "executionInfo": {
     "elapsed": 953,
     "status": "ok",
     "timestamp": 1599226656431,
     "user": {
      "displayName": "___ he",
      "photoUrl": "https://lh3.googleusercontent.com/a-/AOh14GhtF_eOIBFxax69_lot3-pnRiKRYV51eIt3LkmrMQ=s64",
      "userId": "09313321800010264659"
     },
     "user_tz": -540
    },
    "id": "tkrd2MeuVPPP",
    "outputId": "8b48aab8-a5e9-4cdb-e9d4-4cb8a4a2afff"
   },
   "outputs": [
    {
     "name": "stdout",
     "output_type": "stream",
     "text": [
      "CRAWL FAILED 95\n"
     ]
    }
   ],
   "source": [
    "### result check \n",
    "chk_result = pd.read_csv(file_path+\"crawl_output_0904/crawl_uniquecode(0904).csv\")\n",
    "print(\"CRAWL FAILED\", len(chk_result[chk_result['cr']!=1]))"
   ]
  },
  {
   "cell_type": "markdown",
   "metadata": {
    "colab_type": "text",
    "id": "E1vt4VSExi5H"
   },
   "source": [
    "## 3.5 크롤 결과중 무형은 빼기 !!!!!!"
   ]
  },
  {
   "cell_type": "code",
   "execution_count": null,
   "metadata": {
    "colab": {
     "base_uri": "https://localhost:8080/",
     "height": 416
    },
    "colab_type": "code",
    "executionInfo": {
     "elapsed": 1252,
     "status": "ok",
     "timestamp": 1599234013191,
     "user": {
      "displayName": "___ he",
      "photoUrl": "https://lh3.googleusercontent.com/a-/AOh14GhtF_eOIBFxax69_lot3-pnRiKRYV51eIt3LkmrMQ=s64",
      "userId": "09313321800010264659"
     },
     "user_tz": -540
    },
    "id": "7tfO-WaKxl_9",
    "outputId": "52fbb872-ae77-4d2b-b644-c51e69e8f130"
   },
   "outputs": [
    {
     "data": {
      "text/html": [
       "<div>\n",
       "<style scoped>\n",
       "    .dataframe tbody tr th:only-of-type {\n",
       "        vertical-align: middle;\n",
       "    }\n",
       "\n",
       "    .dataframe tbody tr th {\n",
       "        vertical-align: top;\n",
       "    }\n",
       "\n",
       "    .dataframe thead th {\n",
       "        text-align: right;\n",
       "    }\n",
       "</style>\n",
       "<table border=\"1\" class=\"dataframe\">\n",
       "  <thead>\n",
       "    <tr style=\"text-align: right;\">\n",
       "      <th></th>\n",
       "      <th>p_code</th>\n",
       "      <th>cr</th>\n",
       "      <th>name</th>\n",
       "      <th>link</th>\n",
       "      <th>price</th>\n",
       "      <th>cate1</th>\n",
       "      <th>cate2</th>\n",
       "      <th>cate3</th>\n",
       "      <th>cate4</th>\n",
       "    </tr>\n",
       "  </thead>\n",
       "  <tbody>\n",
       "    <tr>\n",
       "      <th>0</th>\n",
       "      <td>201072</td>\n",
       "      <td>1</td>\n",
       "      <td>테이트 남여공용 베이직 터틀넥 3종 KA8W9-MSP010 MSP020 USP010</td>\n",
       "      <td>https://cr.shopping.naver.com/adcr.nhn?x=7pGpB...</td>\n",
       "      <td>7310원</td>\n",
       "      <td>패션의류</td>\n",
       "      <td>남성의류</td>\n",
       "      <td>니트/스웨터</td>\n",
       "      <td>None</td>\n",
       "    </tr>\n",
       "    <tr>\n",
       "      <th>1</th>\n",
       "      <td>201079</td>\n",
       "      <td>1</td>\n",
       "      <td>테이트 여성 19FW 헤어리 폭스블렌디드 니트 3종</td>\n",
       "      <td>https://cr.shopping.naver.com/adcr.nhn?x=3ZVe2...</td>\n",
       "      <td>37110원</td>\n",
       "      <td>패션의류</td>\n",
       "      <td>여성의류</td>\n",
       "      <td>니트/스웨터</td>\n",
       "      <td>None</td>\n",
       "    </tr>\n",
       "    <tr>\n",
       "      <th>2</th>\n",
       "      <td>200974</td>\n",
       "      <td>1</td>\n",
       "      <td>[BH0428] 신품 삼각컵 브라 쁘띠파운데이션삼중지내의 여성감 소녀레이스 노와이어 얇은</td>\n",
       "      <td>https://cr.shopping.naver.com/adcr.nhn?x=mKZYN...</td>\n",
       "      <td>26260원</td>\n",
       "      <td>패션의류</td>\n",
       "      <td>여성언더웨어/잠옷</td>\n",
       "      <td>브라</td>\n",
       "      <td>None</td>\n",
       "    </tr>\n",
       "    <tr>\n",
       "      <th>3</th>\n",
       "      <td>202377</td>\n",
       "      <td>1</td>\n",
       "      <td>CERINI by PAT 소프트 기모 릴렉스 팬츠 3종 (블랙,네이비,그레이)</td>\n",
       "      <td>https://cr.shopping.naver.com/adcr.nhn?x=6R5nd...</td>\n",
       "      <td>58900원</td>\n",
       "      <td>패션의류</td>\n",
       "      <td>남성의류</td>\n",
       "      <td>바지</td>\n",
       "      <td>None</td>\n",
       "    </tr>\n",
       "    <tr>\n",
       "      <th>4</th>\n",
       "      <td>202404</td>\n",
       "      <td>1</td>\n",
       "      <td>더아이잗 리버시블 롱 무스탕 ik9a3fs04</td>\n",
       "      <td>https://cr.shopping.naver.com/adcr.nhn?x=IoJ21...</td>\n",
       "      <td>64860원</td>\n",
       "      <td>패션의류</td>\n",
       "      <td>여성의류</td>\n",
       "      <td>코트</td>\n",
       "      <td>None</td>\n",
       "    </tr>\n",
       "    <tr>\n",
       "      <th>...</th>\n",
       "      <td>...</td>\n",
       "      <td>...</td>\n",
       "      <td>...</td>\n",
       "      <td>...</td>\n",
       "      <td>...</td>\n",
       "      <td>...</td>\n",
       "      <td>...</td>\n",
       "      <td>...</td>\n",
       "      <td>...</td>\n",
       "    </tr>\n",
       "    <tr>\n",
       "      <th>2037</th>\n",
       "      <td>201357</td>\n",
       "      <td>1</td>\n",
       "      <td>루시헨느 쉐이퍼팬티 9종 홀리데이 패키지 보정속옷 여성솟옷</td>\n",
       "      <td>https://cr.shopping.naver.com/adcr.nhn?x=siCcd...</td>\n",
       "      <td>9590원</td>\n",
       "      <td>패션의류</td>\n",
       "      <td>여성언더웨어/잠옷</td>\n",
       "      <td>팬티</td>\n",
       "      <td>None</td>\n",
       "    </tr>\n",
       "    <tr>\n",
       "      <th>2038</th>\n",
       "      <td>201416</td>\n",
       "      <td>1</td>\n",
       "      <td>크리스티나앤코 리버시블 패딩코트</td>\n",
       "      <td>https://cr.shopping.naver.com/adcr.nhn?x=V9nt9...</td>\n",
       "      <td>29900원</td>\n",
       "      <td>패션의류</td>\n",
       "      <td>여성의류</td>\n",
       "      <td>점퍼</td>\n",
       "      <td>None</td>\n",
       "    </tr>\n",
       "    <tr>\n",
       "      <th>2039</th>\n",
       "      <td>201819</td>\n",
       "      <td>1</td>\n",
       "      <td>레스토닉 블루투스 LED 서랍 침대 슈퍼싱글 퀸 매트포함</td>\n",
       "      <td>https://cr.shopping.naver.com/adcr.nhn?x=fodRm...</td>\n",
       "      <td>470810원</td>\n",
       "      <td>가구/인테리어</td>\n",
       "      <td>침실가구</td>\n",
       "      <td>침대</td>\n",
       "      <td>침대프레임</td>\n",
       "    </tr>\n",
       "    <tr>\n",
       "      <th>2040</th>\n",
       "      <td>201821</td>\n",
       "      <td>1</td>\n",
       "      <td>레스토닉 블루투스 LED 서랍 침대 슈퍼싱글 퀸 매트포함</td>\n",
       "      <td>https://cr.shopping.naver.com/adcr.nhn?x=bSsh5...</td>\n",
       "      <td>470810원</td>\n",
       "      <td>가구/인테리어</td>\n",
       "      <td>침실가구</td>\n",
       "      <td>침대</td>\n",
       "      <td>침대프레임</td>\n",
       "    </tr>\n",
       "    <tr>\n",
       "      <th>2041</th>\n",
       "      <td>201823</td>\n",
       "      <td>1</td>\n",
       "      <td>레스토닉 블루투스 LED 서랍 침대 슈퍼싱글 퀸 매트포함</td>\n",
       "      <td>https://cr.shopping.naver.com/adcr.nhn?x=7ITOc...</td>\n",
       "      <td>470810원</td>\n",
       "      <td>가구/인테리어</td>\n",
       "      <td>침실가구</td>\n",
       "      <td>침대</td>\n",
       "      <td>침대프레임</td>\n",
       "    </tr>\n",
       "  </tbody>\n",
       "</table>\n",
       "<p>2042 rows × 9 columns</p>\n",
       "</div>"
      ],
      "text/plain": [
       "      p_code  cr  ...   cate3  cate4\n",
       "0     201072   1  ...  니트/스웨터   None\n",
       "1     201079   1  ...  니트/스웨터   None\n",
       "2     200974   1  ...      브라   None\n",
       "3     202377   1  ...      바지   None\n",
       "4     202404   1  ...      코트   None\n",
       "...      ...  ..  ...     ...    ...\n",
       "2037  201357   1  ...      팬티   None\n",
       "2038  201416   1  ...      점퍼   None\n",
       "2039  201819   1  ...      침대  침대프레임\n",
       "2040  201821   1  ...      침대  침대프레임\n",
       "2041  201823   1  ...      침대  침대프레임\n",
       "\n",
       "[2042 rows x 9 columns]"
      ]
     },
     "execution_count": 214,
     "metadata": {
      "tags": []
     },
     "output_type": "execute_result"
    }
   ],
   "source": [
    "# 무형이 아닌 상품코드 리스트 \n",
    "not_emp_data = train_data[train_data['p_cate']!='무형']\n",
    "not_emp_pcode = not_emp_data['p_code'].to_list()\n",
    "not_emp_pcode_list = list(set(not_emp_pcode))\n",
    "not_emp_crawling_df = crawling_df.loc[(crawling_df['p_code'].isin(not_emp_pcode_list))]\n",
    "not_emp_crawling_df = not_emp_crawling_df.reset_index(drop = True)\n",
    "not_emp_crawling_df"
   ]
  },
  {
   "cell_type": "markdown",
   "metadata": {
    "colab_type": "text",
    "id": "kRIYAkRLH9ky"
   },
   "source": [
    "## 4. 크롤링 안된 상품명들 확인 "
   ]
  },
  {
   "cell_type": "code",
   "execution_count": null,
   "metadata": {
    "colab": {},
    "colab_type": "code",
    "id": "VBK17lr0LIIj"
   },
   "outputs": [],
   "source": [
    "def code2_navercate_name(p_code):\n",
    "    return code2name_dict[p_code]"
   ]
  },
  {
   "cell_type": "code",
   "execution_count": null,
   "metadata": {
    "colab": {
     "base_uri": "https://localhost:8080/",
     "height": 129
    },
    "colab_type": "code",
    "executionInfo": {
     "elapsed": 1551,
     "status": "ok",
     "timestamp": 1599234037580,
     "user": {
      "displayName": "___ he",
      "photoUrl": "https://lh3.googleusercontent.com/a-/AOh14GhtF_eOIBFxax69_lot3-pnRiKRYV51eIt3LkmrMQ=s64",
      "userId": "09313321800010264659"
     },
     "user_tz": -540
    },
    "id": "pBRh_kT6_L_V",
    "outputId": "d743cdfd-7614-4753-9fbe-d54c01442a5d"
   },
   "outputs": [
    {
     "name": "stderr",
     "output_type": "stream",
     "text": [
      "/usr/local/lib/python3.6/dist-packages/ipykernel_launcher.py:3: SettingWithCopyWarning: \n",
      "A value is trying to be set on a copy of a slice from a DataFrame.\n",
      "Try using .loc[row_indexer,col_indexer] = value instead\n",
      "\n",
      "See the caveats in the documentation: https://pandas.pydata.org/pandas-docs/stable/user_guide/indexing.html#returning-a-view-versus-a-copy\n",
      "  This is separate from the ipykernel package so we can avoid doing imports until\n"
     ]
    }
   ],
   "source": [
    "# get p name of not cr data \n",
    "not_cr_data = not_emp_crawling_df[not_emp_crawling_df['cr'] != 1]\n",
    "not_cr_data['p_name'] = not_cr_data['p_code'].apply(code2_navercate_name)\n",
    "not_cr_data = not_cr_data[['p_code','p_name']]\n",
    "not_cr_data.to_csv(file_path+\"crawl_output_0904/crawl_uniquecode_failed(0904).csv\", index = False)"
   ]
  },
  {
   "cell_type": "markdown",
   "metadata": {
    "colab_type": "text",
    "id": "-10-8nF0ZGqC"
   },
   "source": [
    "**** 과거 크롤링 데이터에서 해당 부분 메워진거 있는지 확인해보기 "
   ]
  },
  {
   "cell_type": "code",
   "execution_count": null,
   "metadata": {
    "colab": {},
    "colab_type": "code",
    "id": "Y5W4NtRbTjt9"
   },
   "outputs": [],
   "source": [
    "def before_cr_data_load():\n",
    "    # chk_result = pd.read_csv(file_path+\"crawl_output_0904/crawl_uniquecode(0904).csv\")\n",
    "    file_path = \"/content/drive/My Drive/Colab Notebooks/2020bigcontest/data/\"\n",
    "    not_cr_data = pd.read_csv(file_path+\"crawl_output_0904/crawl_uniquecode_failed(0904).csv\")\n",
    "    my_cr_data = pd.read_csv(file_path+\"crawl_output_0904/before_cr_output/navercrawldata_ver1(0826).csv\") # 내 크롤데이터\n",
    "    edit_cr_data = pd.read_csv(file_path+\"crawl_output_0904/before_cr_output/categories_train.csv\") # 아이템 스카우트 크롤데이터\n",
    "    edit_cr_data.columns = ['p_code', 'p_name', 'cate2', 'cate3']\n",
    "    return not_cr_data, my_cr_data, edit_cr_data "
   ]
  },
  {
   "cell_type": "code",
   "execution_count": null,
   "metadata": {
    "colab": {},
    "colab_type": "code",
    "id": "S_kpzfugU8s3"
   },
   "outputs": [],
   "source": [
    "not_cr_data, my_cr_data, edit_cr_data  = before_cr_data_load()"
   ]
  },
  {
   "cell_type": "code",
   "execution_count": null,
   "metadata": {
    "colab": {
     "base_uri": "https://localhost:8080/",
     "height": 92
    },
    "colab_type": "code",
    "executionInfo": {
     "elapsed": 1394,
     "status": "ok",
     "timestamp": 1599234056631,
     "user": {
      "displayName": "___ he",
      "photoUrl": "https://lh3.googleusercontent.com/a-/AOh14GhtF_eOIBFxax69_lot3-pnRiKRYV51eIt3LkmrMQ=s64",
      "userId": "09313321800010264659"
     },
     "user_tz": -540
    },
    "id": "pnUIQWtRWVQM",
    "outputId": "ba232165-0707-448b-def0-6d13e2e6eade"
   },
   "outputs": [
    {
     "name": "stdout",
     "output_type": "stream",
     "text": [
      "57\n",
      "1    57\n",
      "0    17\n",
      "Name: cr, dtype: int64\n"
     ]
    }
   ],
   "source": [
    "temp_merge1 = pd.merge(not_cr_data, my_cr_data, left_on = 'p_code', right_on = 'p_code', how = 'left')\n",
    "temp_merge1['cr'] = temp_merge1.cr.fillna(0)\n",
    "temp_merge1.to_csv(file_path+\"crawl_output_0904/crawl_uniquecode_mergefailed(0904).csv\", index = False)\n",
    "print(len(temp_merge1[temp_merge1['cr'] ==1])) # 57개 가져올 수 있음 \n",
    "print(temp_merge1['cr'].value_counts())"
   ]
  },
  {
   "cell_type": "markdown",
   "metadata": {
    "colab_type": "text",
    "id": "pGxtN9QYmBuY"
   },
   "source": [
    "## 5. 노가다 한거 들고 오기"
   ]
  },
  {
   "cell_type": "code",
   "execution_count": null,
   "metadata": {
    "colab": {},
    "colab_type": "code",
    "id": "Wjzk3sJ_b807"
   },
   "outputs": [],
   "source": [
    "file_path = \"/content/drive/My Drive/Colab Notebooks/2020bigcontest/data/\"\n",
    "finaledit_cr_data = pd.read_csv(file_path+\"crawl_output_0904/crawl_uniquecode_mergefailed_edit(0905).csv\")\n",
    "finaledit_dict = dict(zip(finaledit_cr_data['p_code'].to_list(),finaledit_cr_data['search_word'].to_list()))"
   ]
  },
  {
   "cell_type": "code",
   "execution_count": null,
   "metadata": {
    "colab": {
     "base_uri": "https://localhost:8080/",
     "height": 36
    },
    "colab_type": "code",
    "executionInfo": {
     "elapsed": 182534,
     "status": "ok",
     "timestamp": 1599232107978,
     "user": {
      "displayName": "___ he",
      "photoUrl": "https://lh3.googleusercontent.com/a-/AOh14GhtF_eOIBFxax69_lot3-pnRiKRYV51eIt3LkmrMQ=s64",
      "userId": "09313321800010264659"
     },
     "user_tz": -540
    },
    "id": "_716CkunnnrH",
    "outputId": "94d0724f-efd3-4dc8-d5c5-c6d75c3803d7"
   },
   "outputs": [
    {
     "name": "stderr",
     "output_type": "stream",
     "text": [
      "100%|██████████| 95/95 [03:01<00:00,  1.91s/it]\n"
     ]
    }
   ],
   "source": [
    "finaledit_cr_list = main(finaledit_dict)"
   ]
  },
  {
   "cell_type": "code",
   "execution_count": null,
   "metadata": {
    "colab": {},
    "colab_type": "code",
    "id": "wny4wdY9ppxw"
   },
   "outputs": [],
   "source": [
    "file_path = \"/content/drive/My Drive/Colab Notebooks/2020bigcontest/data/\"\n",
    "result_file = open(file_path+\"crawl_output_0904/result_final_editdict(0905).json\",'w+')\n",
    "result_file.write(json.dumps(finaledit_cr_list))\n",
    "finaledit_cr_df = pd.read_json(file_path+\"crawl_output_0904/result_final_editdict(0905).json\")\n",
    "finaledit_cr_df = finaledit_cr_df[['p_code','cr','name','link','price','cate1','cate2','cate3', \"cate4\"]]\n",
    "finaledit_cr_df.to_csv(file_path+\"crawl_output_0904/crawl_uniquecode_editfinal(0905).csv\", index = False)"
   ]
  },
  {
   "cell_type": "code",
   "execution_count": null,
   "metadata": {
    "colab": {
     "base_uri": "https://localhost:8080/",
     "height": 92
    },
    "colab_type": "code",
    "executionInfo": {
     "elapsed": 1642,
     "status": "ok",
     "timestamp": 1599232754791,
     "user": {
      "displayName": "___ he",
      "photoUrl": "https://lh3.googleusercontent.com/a-/AOh14GhtF_eOIBFxax69_lot3-pnRiKRYV51eIt3LkmrMQ=s64",
      "userId": "09313321800010264659"
     },
     "user_tz": -540
    },
    "id": "MLV4S6ENrv3D",
    "outputId": "dfdb7248-baee-46cf-f8c0-165067938194"
   },
   "outputs": [
    {
     "name": "stdout",
     "output_type": "stream",
     "text": [
      "전체 2514 : \n",
      "2419 : crawled /\n",
      "95 : not crawled \n",
      "not crawled 중 노가다 개수 95\n"
     ]
    }
   ],
   "source": [
    "### 아까 크롤 잘된거랑 마지막 노가다 작업이랑 합치기 \n",
    "print(f\"전체 {len(crawling_df)} : \\n{len(crawling_df[crawling_df['cr']==1])} : crawled /\\n{len(crawling_df[crawling_df['cr']!=1])} : not crawled \")\n",
    "print(\"not crawled 중 노가다 개수\", len(finaledit_cr_df))"
   ]
  },
  {
   "cell_type": "markdown",
   "metadata": {
    "colab_type": "text",
    "id": "E5jkcwma25iU"
   },
   "source": [
    "## 6. 전체 통합 - 무형 상품 코드에 해당되는 행 제거 "
   ]
  },
  {
   "cell_type": "code",
   "execution_count": null,
   "metadata": {
    "colab": {},
    "colab_type": "code",
    "id": "f0o8XQGcyO-p"
   },
   "outputs": [],
   "source": [
    "concat_all_cr_data = pd.concat([crawling_df[crawling_df['cr']==1],finaledit_cr_df])\n",
    "concat_all_cr_data = concat_all_cr_data.loc[concat_all_cr_data['p_code'].isin(em_pcode_list) == False]\n",
    "concat_all_cr_data = concat_all_cr_data.reset_index(drop = True)\n",
    "concat_all_cr_data.to_csv(file_path+\"crawl_output_0904/Pcode_crawl_all.csv\", index = False)"
   ]
  },
  {
   "cell_type": "code",
   "execution_count": null,
   "metadata": {
    "colab": {
     "base_uri": "https://localhost:8080/",
     "height": 49
    },
    "colab_type": "code",
    "executionInfo": {
     "elapsed": 752,
     "status": "ok",
     "timestamp": 1599235447002,
     "user": {
      "displayName": "___ he",
      "photoUrl": "https://lh3.googleusercontent.com/a-/AOh14GhtF_eOIBFxax69_lot3-pnRiKRYV51eIt3LkmrMQ=s64",
      "userId": "09313321800010264659"
     },
     "user_tz": -540
    },
    "id": "20QOMew82vXl",
    "outputId": "39bd90d0-fce8-457b-8e77-688eecc896e1"
   },
   "outputs": [
    {
     "data": {
      "text/html": [
       "<div>\n",
       "<style scoped>\n",
       "    .dataframe tbody tr th:only-of-type {\n",
       "        vertical-align: middle;\n",
       "    }\n",
       "\n",
       "    .dataframe tbody tr th {\n",
       "        vertical-align: top;\n",
       "    }\n",
       "\n",
       "    .dataframe thead th {\n",
       "        text-align: right;\n",
       "    }\n",
       "</style>\n",
       "<table border=\"1\" class=\"dataframe\">\n",
       "  <thead>\n",
       "    <tr style=\"text-align: right;\">\n",
       "      <th></th>\n",
       "      <th>p_code</th>\n",
       "      <th>cr</th>\n",
       "      <th>name</th>\n",
       "      <th>link</th>\n",
       "      <th>price</th>\n",
       "      <th>cate1</th>\n",
       "      <th>cate2</th>\n",
       "      <th>cate3</th>\n",
       "      <th>cate4</th>\n",
       "    </tr>\n",
       "  </thead>\n",
       "  <tbody>\n",
       "  </tbody>\n",
       "</table>\n",
       "</div>"
      ],
      "text/plain": [
       "Empty DataFrame\n",
       "Columns: [p_code, cr, name, link, price, cate1, cate2, cate3, cate4]\n",
       "Index: []"
      ]
     },
     "execution_count": 280,
     "metadata": {
      "tags": []
     },
     "output_type": "execute_result"
    }
   ],
   "source": [
    "concat_all_cr_data.loc[concat_all_cr_data['p_code'].isin(em_pcode_list)] ## 무형에 속한 데이터 다 제거된 것을 확인 ! "
   ]
  },
  {
   "cell_type": "code",
   "execution_count": null,
   "metadata": {
    "colab": {},
    "colab_type": "code",
    "id": "96oE6pfM3FWo"
   },
   "outputs": [],
   "source": [
    "\n",
    "concat_all_cr_data = pd.read_csv(file_path+\"crawl_output_0904/Pcode_crawl_all.csv\")"
   ]
  },
  {
   "cell_type": "code",
   "execution_count": null,
   "metadata": {
    "colab": {
     "base_uri": "https://localhost:8080/",
     "height": 433
    },
    "colab_type": "code",
    "executionInfo": {
     "elapsed": 1110,
     "status": "ok",
     "timestamp": 1599238960006,
     "user": {
      "displayName": "___ he",
      "photoUrl": "https://lh3.googleusercontent.com/a-/AOh14GhtF_eOIBFxax69_lot3-pnRiKRYV51eIt3LkmrMQ=s64",
      "userId": "09313321800010264659"
     },
     "user_tz": -540
    },
    "id": "Zi1Rqxtb-Gup",
    "outputId": "30b4d137-ae77-4a63-fe71-33f77b2c18c6"
   },
   "outputs": [
    {
     "data": {
      "text/html": [
       "<div>\n",
       "<style scoped>\n",
       "    .dataframe tbody tr th:only-of-type {\n",
       "        vertical-align: middle;\n",
       "    }\n",
       "\n",
       "    .dataframe tbody tr th {\n",
       "        vertical-align: top;\n",
       "    }\n",
       "\n",
       "    .dataframe thead th {\n",
       "        text-align: right;\n",
       "    }\n",
       "</style>\n",
       "<table border=\"1\" class=\"dataframe\">\n",
       "  <thead>\n",
       "    <tr style=\"text-align: right;\">\n",
       "      <th></th>\n",
       "      <th>p_code</th>\n",
       "      <th>cr</th>\n",
       "      <th>name</th>\n",
       "      <th>link</th>\n",
       "      <th>price</th>\n",
       "      <th>cate1</th>\n",
       "      <th>cate2</th>\n",
       "      <th>cate3</th>\n",
       "      <th>cate4</th>\n",
       "    </tr>\n",
       "  </thead>\n",
       "  <tbody>\n",
       "    <tr>\n",
       "      <th>0</th>\n",
       "      <td>201072</td>\n",
       "      <td>1</td>\n",
       "      <td>테이트 남여공용 베이직 터틀넥 3종 KA8W9-MSP010 MSP020 USP010</td>\n",
       "      <td>https://cr.shopping.naver.com/adcr.nhn?x=7pGpB...</td>\n",
       "      <td>7310원</td>\n",
       "      <td>패션의류</td>\n",
       "      <td>남성의류</td>\n",
       "      <td>니트/스웨터</td>\n",
       "      <td>NaN</td>\n",
       "    </tr>\n",
       "    <tr>\n",
       "      <th>1</th>\n",
       "      <td>201079</td>\n",
       "      <td>1</td>\n",
       "      <td>테이트 여성 19FW 헤어리 폭스블렌디드 니트 3종</td>\n",
       "      <td>https://cr.shopping.naver.com/adcr.nhn?x=3ZVe2...</td>\n",
       "      <td>37110원</td>\n",
       "      <td>패션의류</td>\n",
       "      <td>여성의류</td>\n",
       "      <td>니트/스웨터</td>\n",
       "      <td>NaN</td>\n",
       "    </tr>\n",
       "    <tr>\n",
       "      <th>2</th>\n",
       "      <td>200974</td>\n",
       "      <td>1</td>\n",
       "      <td>[BH0428] 신품 삼각컵 브라 쁘띠파운데이션삼중지내의 여성감 소녀레이스 노와이어 얇은</td>\n",
       "      <td>https://cr.shopping.naver.com/adcr.nhn?x=mKZYN...</td>\n",
       "      <td>26260원</td>\n",
       "      <td>패션의류</td>\n",
       "      <td>여성언더웨어/잠옷</td>\n",
       "      <td>브라</td>\n",
       "      <td>NaN</td>\n",
       "    </tr>\n",
       "    <tr>\n",
       "      <th>3</th>\n",
       "      <td>202377</td>\n",
       "      <td>1</td>\n",
       "      <td>CERINI by PAT 소프트 기모 릴렉스 팬츠 3종 (블랙,네이비,그레이)</td>\n",
       "      <td>https://cr.shopping.naver.com/adcr.nhn?x=6R5nd...</td>\n",
       "      <td>58900원</td>\n",
       "      <td>패션의류</td>\n",
       "      <td>남성의류</td>\n",
       "      <td>바지</td>\n",
       "      <td>NaN</td>\n",
       "    </tr>\n",
       "    <tr>\n",
       "      <th>4</th>\n",
       "      <td>202404</td>\n",
       "      <td>1</td>\n",
       "      <td>더아이잗 리버시블 롱 무스탕 ik9a3fs04</td>\n",
       "      <td>https://cr.shopping.naver.com/adcr.nhn?x=IoJ21...</td>\n",
       "      <td>64860원</td>\n",
       "      <td>패션의류</td>\n",
       "      <td>여성의류</td>\n",
       "      <td>코트</td>\n",
       "      <td>NaN</td>\n",
       "    </tr>\n",
       "    <tr>\n",
       "      <th>...</th>\n",
       "      <td>...</td>\n",
       "      <td>...</td>\n",
       "      <td>...</td>\n",
       "      <td>...</td>\n",
       "      <td>...</td>\n",
       "      <td>...</td>\n",
       "      <td>...</td>\n",
       "      <td>...</td>\n",
       "      <td>...</td>\n",
       "    </tr>\n",
       "    <tr>\n",
       "      <th>2402</th>\n",
       "      <td>200380</td>\n",
       "      <td>1</td>\n",
       "      <td>보몽드 [보몽드]시어서커 실루엣 차렵이불(SS/Q)</td>\n",
       "      <td>https://cr.shopping.naver.com/adcr.nhn?x=Jn0Kd...</td>\n",
       "      <td>27500원</td>\n",
       "      <td>가구/인테리어</td>\n",
       "      <td>침구단품</td>\n",
       "      <td>차렵이불</td>\n",
       "      <td>NaN</td>\n",
       "    </tr>\n",
       "    <tr>\n",
       "      <th>2403</th>\n",
       "      <td>201809</td>\n",
       "      <td>1</td>\n",
       "      <td>신일전자 신일 에어쿨러 엣지 플러스 냉풍기 SIF-P75MD 가정용</td>\n",
       "      <td>https://cr.shopping.naver.com/adcr.nhn?x=cRJmC...</td>\n",
       "      <td>160000원</td>\n",
       "      <td>디지털/가전</td>\n",
       "      <td>계절가전</td>\n",
       "      <td>냉풍기</td>\n",
       "      <td>일반용냉풍기</td>\n",
       "    </tr>\n",
       "    <tr>\n",
       "      <th>2404</th>\n",
       "      <td>200323</td>\n",
       "      <td>1</td>\n",
       "      <td>Shop 에브리빙 기능성 쿨잠패드 세트 슈퍼싱글</td>\n",
       "      <td>https://cr.shopping.naver.com/adcr.nhn?x=tqaPu...</td>\n",
       "      <td>66670원</td>\n",
       "      <td>가구/인테리어</td>\n",
       "      <td>침구세트</td>\n",
       "      <td>이불패드세트</td>\n",
       "      <td>더블/퀸이불패드세트</td>\n",
       "    </tr>\n",
       "    <tr>\n",
       "      <th>2405</th>\n",
       "      <td>200324</td>\n",
       "      <td>1</td>\n",
       "      <td>Shop 에브리빙 기능성 쿨잠패드 세트 슈퍼싱글</td>\n",
       "      <td>https://cr.shopping.naver.com/adcr.nhn?x=yrk5v...</td>\n",
       "      <td>66670원</td>\n",
       "      <td>가구/인테리어</td>\n",
       "      <td>침구세트</td>\n",
       "      <td>이불패드세트</td>\n",
       "      <td>더블/퀸이불패드세트</td>\n",
       "    </tr>\n",
       "    <tr>\n",
       "      <th>2406</th>\n",
       "      <td>201242</td>\n",
       "      <td>1</td>\n",
       "      <td>()프리미엄 니봇 시그니처 로봇청소기+셰퍼데일리 청소기</td>\n",
       "      <td>https://cr.shopping.naver.com/adcr.nhn?x=QdEat...</td>\n",
       "      <td>289000원</td>\n",
       "      <td>디지털/가전</td>\n",
       "      <td>생활가전</td>\n",
       "      <td>청소기</td>\n",
       "      <td>로봇청소기</td>\n",
       "    </tr>\n",
       "  </tbody>\n",
       "</table>\n",
       "<p>2407 rows × 9 columns</p>\n",
       "</div>"
      ],
      "text/plain": [
       "      p_code  cr  ...   cate3       cate4\n",
       "0     201072   1  ...  니트/스웨터         NaN\n",
       "1     201079   1  ...  니트/스웨터         NaN\n",
       "2     200974   1  ...      브라         NaN\n",
       "3     202377   1  ...      바지         NaN\n",
       "4     202404   1  ...      코트         NaN\n",
       "...      ...  ..  ...     ...         ...\n",
       "2402  200380   1  ...    차렵이불         NaN\n",
       "2403  201809   1  ...     냉풍기      일반용냉풍기\n",
       "2404  200323   1  ...  이불패드세트  더블/퀸이불패드세트\n",
       "2405  200324   1  ...  이불패드세트  더블/퀸이불패드세트\n",
       "2406  201242   1  ...     청소기       로봇청소기\n",
       "\n",
       "[2407 rows x 9 columns]"
      ]
     },
     "execution_count": 369,
     "metadata": {
      "tags": []
     },
     "output_type": "execute_result"
    }
   ],
   "source": [
    "concat_all_cr_data"
   ]
  },
  {
   "cell_type": "markdown",
   "metadata": {
    "colab_type": "text",
    "id": "tGrYcaWU3dwh"
   },
   "source": [
    "** 성별 매칭 안되는 제품있음, "
   ]
  },
  {
   "cell_type": "code",
   "execution_count": null,
   "metadata": {
    "colab": {},
    "colab_type": "code",
    "id": "l1QYTvbSA0bx"
   },
   "outputs": [],
   "source": [
    "def chk_name_cate2(one):\n",
    "    name = one['name']\n",
    "    cate2 = one['cate2']\n",
    "    if '여성' in name:\n",
    "        if cate2 =='남성신발':\n",
    "            return \"여성신발\"\n",
    "        elif cate2 =='남성의류':\n",
    "            return \"여성의류\"\n",
    "        else:\n",
    "            return cate2\n",
    "    \n",
    "    elif '남성' in name:\n",
    "        if cate2 =='여성신발':\n",
    "            return \"남성신발\"\n",
    "        elif cate2 =='여성의류':\n",
    "            return \"남성의류\"\n",
    "        else:\n",
    "            return cate2\n",
    "    else:\n",
    "        return cate2"
   ]
  },
  {
   "cell_type": "code",
   "execution_count": null,
   "metadata": {
    "colab": {},
    "colab_type": "code",
    "id": "t9DaM7S3BogK"
   },
   "outputs": [],
   "source": [
    "concat_all_cr_data['cate2'] = concat_all_cr_data[['name','cate2']].apply(chk_name_cate2, axis=1)"
   ]
  },
  {
   "cell_type": "code",
   "execution_count": null,
   "metadata": {
    "colab": {},
    "colab_type": "code",
    "id": "ekJhxv5P70DY"
   },
   "outputs": [],
   "source": [
    "concat_all_cr_data.to_csv(file_path+\"crawl_output_0904/Pcode_crawl_all_0905.csv\", index = False)"
   ]
  },
  {
   "cell_type": "code",
   "execution_count": null,
   "metadata": {
    "colab": {
     "base_uri": "https://localhost:8080/",
     "height": 433
    },
    "colab_type": "code",
    "executionInfo": {
     "elapsed": 1102,
     "status": "ok",
     "timestamp": 1599239370629,
     "user": {
      "displayName": "___ he",
      "photoUrl": "https://lh3.googleusercontent.com/a-/AOh14GhtF_eOIBFxax69_lot3-pnRiKRYV51eIt3LkmrMQ=s64",
      "userId": "09313321800010264659"
     },
     "user_tz": -540
    },
    "id": "yHPhoxFGF-Fi",
    "outputId": "aa546d30-50da-4110-89ff-1c2881aa1acc"
   },
   "outputs": [
    {
     "data": {
      "text/html": [
       "<div>\n",
       "<style scoped>\n",
       "    .dataframe tbody tr th:only-of-type {\n",
       "        vertical-align: middle;\n",
       "    }\n",
       "\n",
       "    .dataframe tbody tr th {\n",
       "        vertical-align: top;\n",
       "    }\n",
       "\n",
       "    .dataframe thead th {\n",
       "        text-align: right;\n",
       "    }\n",
       "</style>\n",
       "<table border=\"1\" class=\"dataframe\">\n",
       "  <thead>\n",
       "    <tr style=\"text-align: right;\">\n",
       "      <th></th>\n",
       "      <th>p_code</th>\n",
       "      <th>cr</th>\n",
       "      <th>name</th>\n",
       "      <th>link</th>\n",
       "      <th>price</th>\n",
       "      <th>cate1</th>\n",
       "      <th>cate2</th>\n",
       "      <th>cate3</th>\n",
       "      <th>cate4</th>\n",
       "    </tr>\n",
       "  </thead>\n",
       "  <tbody>\n",
       "    <tr>\n",
       "      <th>0</th>\n",
       "      <td>201072</td>\n",
       "      <td>1</td>\n",
       "      <td>테이트 남여공용 베이직 터틀넥 3종 KA8W9-MSP010 MSP020 USP010</td>\n",
       "      <td>https://cr.shopping.naver.com/adcr.nhn?x=7pGpB...</td>\n",
       "      <td>7310원</td>\n",
       "      <td>패션의류</td>\n",
       "      <td>남성의류</td>\n",
       "      <td>니트/스웨터</td>\n",
       "      <td>NaN</td>\n",
       "    </tr>\n",
       "    <tr>\n",
       "      <th>1</th>\n",
       "      <td>201079</td>\n",
       "      <td>1</td>\n",
       "      <td>테이트 여성 19FW 헤어리 폭스블렌디드 니트 3종</td>\n",
       "      <td>https://cr.shopping.naver.com/adcr.nhn?x=3ZVe2...</td>\n",
       "      <td>37110원</td>\n",
       "      <td>패션의류</td>\n",
       "      <td>여성의류</td>\n",
       "      <td>니트/스웨터</td>\n",
       "      <td>NaN</td>\n",
       "    </tr>\n",
       "    <tr>\n",
       "      <th>2</th>\n",
       "      <td>200974</td>\n",
       "      <td>1</td>\n",
       "      <td>[BH0428] 신품 삼각컵 브라 쁘띠파운데이션삼중지내의 여성감 소녀레이스 노와이어 얇은</td>\n",
       "      <td>https://cr.shopping.naver.com/adcr.nhn?x=mKZYN...</td>\n",
       "      <td>26260원</td>\n",
       "      <td>패션의류</td>\n",
       "      <td>여성언더웨어/잠옷</td>\n",
       "      <td>브라</td>\n",
       "      <td>NaN</td>\n",
       "    </tr>\n",
       "    <tr>\n",
       "      <th>3</th>\n",
       "      <td>202377</td>\n",
       "      <td>1</td>\n",
       "      <td>CERINI by PAT 소프트 기모 릴렉스 팬츠 3종 (블랙,네이비,그레이)</td>\n",
       "      <td>https://cr.shopping.naver.com/adcr.nhn?x=6R5nd...</td>\n",
       "      <td>58900원</td>\n",
       "      <td>패션의류</td>\n",
       "      <td>남성의류</td>\n",
       "      <td>바지</td>\n",
       "      <td>NaN</td>\n",
       "    </tr>\n",
       "    <tr>\n",
       "      <th>4</th>\n",
       "      <td>202404</td>\n",
       "      <td>1</td>\n",
       "      <td>더아이잗 리버시블 롱 무스탕 ik9a3fs04</td>\n",
       "      <td>https://cr.shopping.naver.com/adcr.nhn?x=IoJ21...</td>\n",
       "      <td>64860원</td>\n",
       "      <td>패션의류</td>\n",
       "      <td>여성의류</td>\n",
       "      <td>코트</td>\n",
       "      <td>NaN</td>\n",
       "    </tr>\n",
       "    <tr>\n",
       "      <th>...</th>\n",
       "      <td>...</td>\n",
       "      <td>...</td>\n",
       "      <td>...</td>\n",
       "      <td>...</td>\n",
       "      <td>...</td>\n",
       "      <td>...</td>\n",
       "      <td>...</td>\n",
       "      <td>...</td>\n",
       "      <td>...</td>\n",
       "    </tr>\n",
       "    <tr>\n",
       "      <th>2402</th>\n",
       "      <td>200380</td>\n",
       "      <td>1</td>\n",
       "      <td>보몽드 [보몽드]시어서커 실루엣 차렵이불(SS/Q)</td>\n",
       "      <td>https://cr.shopping.naver.com/adcr.nhn?x=Jn0Kd...</td>\n",
       "      <td>27500원</td>\n",
       "      <td>가구/인테리어</td>\n",
       "      <td>침구단품</td>\n",
       "      <td>차렵이불</td>\n",
       "      <td>NaN</td>\n",
       "    </tr>\n",
       "    <tr>\n",
       "      <th>2403</th>\n",
       "      <td>201809</td>\n",
       "      <td>1</td>\n",
       "      <td>신일전자 신일 에어쿨러 엣지 플러스 냉풍기 SIF-P75MD 가정용</td>\n",
       "      <td>https://cr.shopping.naver.com/adcr.nhn?x=cRJmC...</td>\n",
       "      <td>160000원</td>\n",
       "      <td>디지털/가전</td>\n",
       "      <td>계절가전</td>\n",
       "      <td>냉풍기</td>\n",
       "      <td>일반용냉풍기</td>\n",
       "    </tr>\n",
       "    <tr>\n",
       "      <th>2404</th>\n",
       "      <td>200323</td>\n",
       "      <td>1</td>\n",
       "      <td>Shop 에브리빙 기능성 쿨잠패드 세트 슈퍼싱글</td>\n",
       "      <td>https://cr.shopping.naver.com/adcr.nhn?x=tqaPu...</td>\n",
       "      <td>66670원</td>\n",
       "      <td>가구/인테리어</td>\n",
       "      <td>침구세트</td>\n",
       "      <td>이불패드세트</td>\n",
       "      <td>더블/퀸이불패드세트</td>\n",
       "    </tr>\n",
       "    <tr>\n",
       "      <th>2405</th>\n",
       "      <td>200324</td>\n",
       "      <td>1</td>\n",
       "      <td>Shop 에브리빙 기능성 쿨잠패드 세트 슈퍼싱글</td>\n",
       "      <td>https://cr.shopping.naver.com/adcr.nhn?x=yrk5v...</td>\n",
       "      <td>66670원</td>\n",
       "      <td>가구/인테리어</td>\n",
       "      <td>침구세트</td>\n",
       "      <td>이불패드세트</td>\n",
       "      <td>더블/퀸이불패드세트</td>\n",
       "    </tr>\n",
       "    <tr>\n",
       "      <th>2406</th>\n",
       "      <td>201242</td>\n",
       "      <td>1</td>\n",
       "      <td>()프리미엄 니봇 시그니처 로봇청소기+셰퍼데일리 청소기</td>\n",
       "      <td>https://cr.shopping.naver.com/adcr.nhn?x=QdEat...</td>\n",
       "      <td>289000원</td>\n",
       "      <td>디지털/가전</td>\n",
       "      <td>생활가전</td>\n",
       "      <td>청소기</td>\n",
       "      <td>로봇청소기</td>\n",
       "    </tr>\n",
       "  </tbody>\n",
       "</table>\n",
       "<p>2407 rows × 9 columns</p>\n",
       "</div>"
      ],
      "text/plain": [
       "      p_code  cr  ...   cate3       cate4\n",
       "0     201072   1  ...  니트/스웨터         NaN\n",
       "1     201079   1  ...  니트/스웨터         NaN\n",
       "2     200974   1  ...      브라         NaN\n",
       "3     202377   1  ...      바지         NaN\n",
       "4     202404   1  ...      코트         NaN\n",
       "...      ...  ..  ...     ...         ...\n",
       "2402  200380   1  ...    차렵이불         NaN\n",
       "2403  201809   1  ...     냉풍기      일반용냉풍기\n",
       "2404  200323   1  ...  이불패드세트  더블/퀸이불패드세트\n",
       "2405  200324   1  ...  이불패드세트  더블/퀸이불패드세트\n",
       "2406  201242   1  ...     청소기       로봇청소기\n",
       "\n",
       "[2407 rows x 9 columns]"
      ]
     },
     "execution_count": 400,
     "metadata": {
      "tags": []
     },
     "output_type": "execute_result"
    }
   ],
   "source": [
    "concat_all_cr_data"
   ]
  },
  {
   "cell_type": "code",
   "execution_count": null,
   "metadata": {
    "colab": {},
    "colab_type": "code",
    "id": "bp_n2aYjGDL5"
   },
   "outputs": [],
   "source": []
  }
 ],
 "metadata": {
  "accelerator": "GPU",
  "colab": {
   "collapsed_sections": [],
   "machine_shape": "hm",
   "name": "5.DataCrawling_Navershopping_ver3(0905).ipynb",
   "provenance": [],
   "toc_visible": true
  },
  "kernelspec": {
   "display_name": "Python 3",
   "language": "python",
   "name": "python3"
  },
  "language_info": {
   "codemirror_mode": {
    "name": "ipython",
    "version": 3
   },
   "file_extension": ".py",
   "mimetype": "text/x-python",
   "name": "python",
   "nbconvert_exporter": "python",
   "pygments_lexer": "ipython3",
   "version": "3.7.6"
  }
 },
 "nbformat": 4,
 "nbformat_minor": 1
}
